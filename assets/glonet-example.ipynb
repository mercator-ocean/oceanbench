{
 "cells": [
  {
   "cell_type": "markdown",
   "metadata": {},
   "source": [
    "## Oceanbench analysis example with GLONET forecasts\n"
   ]
  },
  {
   "cell_type": "code",
   "execution_count": null,
   "metadata": {},
   "outputs": [],
   "source": [
    "import oceanbench"
   ]
  },
  {
   "cell_type": "markdown",
   "metadata": {},
   "source": [
    "### Fetch candidate dataset to benchmark"
   ]
  },
  {
   "cell_type": "code",
   "execution_count": null,
   "metadata": {},
   "outputs": [],
   "source": [
    "import xarray"
   ]
  },
  {
   "cell_type": "code",
   "execution_count": null,
   "metadata": {},
   "outputs": [],
   "source": [
    "candidate_dataset = xarray.open_dataset(\"https://minio.dive.edito.eu/project-glonet/public/glonet_reforecast_2024/2024-01-03.zarr\", engine='zarr')"
   ]
  },
  {
   "cell_type": "markdown",
   "metadata": {},
   "source": [
    "### Root Mean Square Error (RMSE) compared to GLORYS"
   ]
  },
  {
   "cell_type": "code",
   "execution_count": null,
   "metadata": {},
   "outputs": [],
   "source": [
    "nparray = oceanbench.metrics.rmse_to_glorys(\n",
    "    candidate_datasets=[candidate_dataset],\n",
    ")\n",
    "oceanbench.plot.plot_rmse(rmse_dataarray=nparray, depth=2)\n",
    "oceanbench.plot.plot_rmse_for_average_depth(rmse_dataarray=nparray)\n",
    "oceanbench.plot.plot_rmse_depth_for_average_time(rmse_dataarray=nparray, dataset_depth_values=candidate_dataset.depth.values)"
   ]
  },
  {
   "cell_type": "markdown",
   "metadata": {},
   "source": [
    "### Mixed Layer Depth (MLD) analysis"
   ]
  },
  {
   "cell_type": "code",
   "execution_count": null,
   "metadata": {},
   "outputs": [],
   "source": [
    "dataset = oceanbench.derived_quantities.mld(\n",
    "    candidate_dataset=candidate_dataset,\n",
    "    lead=1,\n",
    ")\n",
    "oceanbench.plot.plot_mld(dataset=dataset)"
   ]
  },
  {
   "cell_type": "markdown",
   "metadata": {},
   "source": [
    "### Geostrophic current analysis"
   ]
  },
  {
   "cell_type": "code",
   "execution_count": null,
   "metadata": {},
   "outputs": [],
   "source": [
    "dataset = oceanbench.derived_quantities.geostrophic_currents(\n",
    "    candidate_dataset=candidate_dataset,\n",
    "    lead=1,\n",
    "    variable=\"zos\",\n",
    ")\n",
    "oceanbench.plot.plot_geo(dataset=dataset)"
   ]
  },
  {
   "cell_type": "markdown",
   "metadata": {},
   "source": [
    "### Density analysis"
   ]
  },
  {
   "cell_type": "code",
   "execution_count": null,
   "metadata": {},
   "outputs": [],
   "source": [
    "dataarray = oceanbench.derived_quantities.density(\n",
    "    candidate_dataset=candidate_dataset,\n",
    "    lead=1,\n",
    "    minimum_longitude=-100,\n",
    "    maximum_longitude=-40,\n",
    "    minimum_latitude=-15,\n",
    "    maximum_latitude=50,\n",
    ")\n",
    "oceanbench.plot.plot_density(dataarray=dataarray)"
   ]
  },
  {
   "cell_type": "markdown",
   "metadata": {},
   "source": [
    "### Euclidean distance to GLORYS reference"
   ]
  },
  {
   "cell_type": "code",
   "execution_count": null,
   "metadata": {},
   "outputs": [],
   "source": [
    "euclidean_distance = oceanbench.metrics.euclidean_distance_to_glorys(\n",
    "    candidate_dataset=candidate_dataset,\n",
    "    minimum_latitude=466,\n",
    "    maximum_latitude=633,\n",
    "    minimum_longitude=400,\n",
    "    maximum_longitude=466,\n",
    ")\n",
    "\n",
    "oceanbench.plot.plot_euclidean_distance(euclidean_distance)"
   ]
  },
  {
   "cell_type": "markdown",
   "metadata": {},
   "source": [
    "### Energy cascading analysis"
   ]
  },
  {
   "cell_type": "code",
   "execution_count": null,
   "metadata": {},
   "outputs": [],
   "source": [
    "_, gglonet_sc = oceanbench.metrics.energy_cascade(candidate_dataset, \"uo\", 0, 1 / 4)\n",
    "\n",
    "oceanbench.plot.plot_energy_cascade(gglonet_sc)"
   ]
  },
  {
   "cell_type": "markdown",
   "metadata": {},
   "source": [
    "### Kinetic energy analysis"
   ]
  },
  {
   "cell_type": "code",
   "execution_count": null,
   "metadata": {},
   "outputs": [],
   "source": [
    "oceanbench.derived_quantities.kinetic_energy(candidate_dataset)\n",
    "oceanbench.plot.plot_kinetic_energy(candidate_dataset)"
   ]
  },
  {
   "cell_type": "markdown",
   "metadata": {},
   "source": [
    "### Vorticity analysis"
   ]
  },
  {
   "cell_type": "code",
   "execution_count": null,
   "metadata": {},
   "outputs": [],
   "source": [
    "oceanbench.derived_quantities.vorticity(candidate_dataset)\n",
    "oceanbench.plot.plot_vorticity(candidate_dataset)"
   ]
  },
  {
   "cell_type": "markdown",
   "metadata": {},
   "source": [
    "### Mass conservation analysis"
   ]
  },
  {
   "cell_type": "code",
   "execution_count": null,
   "metadata": {},
   "outputs": [],
   "source": [
    "mean_div_time_series = oceanbench.derived_quantities.mass_conservation(candidate_dataset, 0, deg_resolution=0.25)  # should be close to zero\n",
    "print(mean_div_time_series.data)  #time-dependent scores"
   ]
  }
 ],
 "metadata": {
  "kernelspec": {
   "display_name": "Python 3 (ipykernel)",
   "language": "python",
   "name": "python3"
  },
  "language_info": {
   "codemirror_mode": {
    "name": "ipython",
    "version": 3
   },
   "file_extension": ".py",
   "mimetype": "text/x-python",
   "name": "python",
   "nbconvert_exporter": "python",
   "pygments_lexer": "ipython3",
   "version": "3.12.7"
  }
 },
 "nbformat": 4,
 "nbformat_minor": 5
}
