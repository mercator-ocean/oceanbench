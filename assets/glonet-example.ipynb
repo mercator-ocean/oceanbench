{
 "cells": [
  {
   "cell_type": "markdown",
   "metadata": {},
   "source": [
    "## Oceanbench analysis example with GLONET forecasts\n",
    "\n",
    "### Installation"
   ]
  },
  {
   "cell_type": "code",
   "execution_count": null,
   "metadata": {},
   "outputs": [],
   "source": [
    "!git clone git@github.com:mercator-ocean/oceanbench.git"
   ]
  },
  {
   "cell_type": "code",
   "execution_count": null,
   "metadata": {},
   "outputs": [],
   "source": [
    "!cd oceanbench/ && pip install --editable ."
   ]
  },
  {
   "cell_type": "code",
   "execution_count": null,
   "metadata": {},
   "outputs": [],
   "source": [
    "import oceanbench\n",
    "import xarray"
   ]
  },
  {
   "cell_type": "markdown",
   "metadata": {},
   "source": [
    "### Fetch dataset to benchmark and reference dataset (GLORYS)"
   ]
  },
  {
   "cell_type": "code",
   "execution_count": null,
   "metadata": {},
   "outputs": [],
   "source": [
    "!mc cp -r s3/project-oceanbench/glo data/"
   ]
  },
  {
   "cell_type": "code",
   "execution_count": null,
   "metadata": {},
   "outputs": [],
   "source": [
    "glonet_dataset = xarray.open_dataset(\"data/glonet/2024-01-03.nc\")\n",
    "glorys_dataset = xarray.open_dataset(\"data/glorys14/2024-01-03.nc\")"
   ]
  },
  {
   "cell_type": "markdown",
   "metadata": {},
   "source": [
    "### RMSE analysis"
   ]
  },
  {
   "cell_type": "code",
   "execution_count": null,
   "metadata": {},
   "outputs": [],
   "source": [
    "nparray = oceanbench.metrics.rmse(\n",
    "    glonet_datasets=[glonet_dataset],\n",
    "    glorys_datasets=[glorys_dataset],\n",
    ")\n",
    "oceanbench.plot.plot_rmse(rmse_dataarray=nparray, depth=2)\n",
    "oceanbench.plot.plot_rmse_for_average_depth(rmse_dataarray=nparray)\n",
    "oceanbench.plot.plot_rmse_depth_for_average_time(rmse_dataarray=nparray, dataset_depth_values=glonet_dataset.depth.values)"
   ]
  },
  {
   "cell_type": "markdown",
   "metadata": {},
   "source": [
    "### MLD analysis"
   ]
  },
  {
   "cell_type": "code",
   "execution_count": null,
   "metadata": {},
   "outputs": [],
   "source": [
    "dataset = oceanbench.derived_quantities.mld(\n",
    "    dataset=glonet_dataset,\n",
    "    lead=1,\n",
    ")\n",
    "oceanbench.plot.plot_mld(dataset=dataset)"
   ]
  },
  {
   "cell_type": "markdown",
   "metadata": {},
   "source": [
    "### Geostrophic current analysis"
   ]
  },
  {
   "cell_type": "code",
   "execution_count": null,
   "metadata": {},
   "outputs": [],
   "source": [
    "dataset = oceanbench.derived_quantities.geostraphic_currents(\n",
    "    dataset=glonet_dataset,\n",
    "    lead=1,\n",
    "    variable=\"zos\",\n",
    ")\n",
    "oceanbench.plot.plot_geo(dataset=dataset)"
   ]
  },
  {
   "cell_type": "markdown",
   "metadata": {},
   "source": [
    "### Density analysis"
   ]
  },
  {
   "cell_type": "code",
   "execution_count": null,
   "metadata": {},
   "outputs": [],
   "source": [
    "dataarray = oceanbench.derived_quantities.density(\n",
    "    dataset=glonet_dataset,\n",
    "    lead=1,\n",
    "    minimum_longitude=-100,\n",
    "    maximum_longitude=-40,\n",
    "    minimum_latitude=-15,\n",
    "    maximum_latitude=50,\n",
    ")\n",
    "oceanbench.plot.plot_density(dataarray=dataarray)"
   ]
  },
  {
   "cell_type": "markdown",
   "metadata": {},
   "source": [
    "### Euclidean distance analysis"
   ]
  },
  {
   "cell_type": "code",
   "execution_count": null,
   "metadata": {},
   "outputs": [],
   "source": [
    "euclidean_distance = oceanbench.metrics.get_euclidean_distance(\n",
    "    first_dataset=glonet_dataset,\n",
    "    second_dataset=glorys_dataset,\n",
    "    minimum_latitude=466,\n",
    "    maximum_latitude=633,\n",
    "    minimum_longitude=400,\n",
    "    maximum_longitude=466,\n",
    ")\n",
    "\n",
    "oceanbench.plot.plot_euclidean_distance(euclidean_distance)"
   ]
  },
  {
   "cell_type": "markdown",
   "metadata": {},
   "source": [
    "### Energy cascading analysis"
   ]
  },
  {
   "cell_type": "code",
   "execution_count": null,
   "metadata": {},
   "outputs": [],
   "source": [
    "_, gglonet_sc = oceanbench.metrics.analyze_energy_cascade(glonet_dataset, \"uo\", 0, 1 / 4)\n",
    "\n",
    "oceanbench.plot.plot_energy_cascade(gglonet_sc)"
   ]
  },
  {
   "cell_type": "markdown",
   "metadata": {},
   "source": [
    "### Kinetic energy analysis"
   ]
  },
  {
   "cell_type": "code",
   "execution_count": null,
   "metadata": {},
   "outputs": [],
   "source": [
    "oceanbench.plot.plot_kinetic_energy(glonet_dataset)"
   ]
  },
  {
   "cell_type": "markdown",
   "metadata": {},
   "source": [
    "### Vorticity analysis"
   ]
  },
  {
   "cell_type": "code",
   "execution_count": null,
   "metadata": {},
   "outputs": [],
   "source": [
    "oceanbench.plot.plot_vortocity(glonet_dataset)"
   ]
  },
  {
   "cell_type": "markdown",
   "metadata": {},
   "source": [
    "### Mass conservation analysis"
   ]
  },
  {
   "cell_type": "code",
   "execution_count": null,
   "metadata": {},
   "outputs": [],
   "source": [
    "mean_div_time_series = oceanbench.derived_quantities.mass_conservation(glonet_dataset, 0, deg_resolution=0.25)  # should be close to zero\n",
    "print(mean_div_time_series.data)  #time-dependent scores"
   ]
  }
 ],
 "metadata": {
  "kernelspec": {
   "display_name": "Python 3 (ipykernel)",
   "language": "python",
   "name": "python3"
  },
  "language_info": {
   "codemirror_mode": {
    "name": "ipython",
    "version": 3
   },
   "file_extension": ".py",
   "mimetype": "text/x-python",
   "name": "python",
   "nbconvert_exporter": "python",
   "pygments_lexer": "ipython3",
   "version": "3.12.7"
  }
 },
 "nbformat": 4,
 "nbformat_minor": 5
}
