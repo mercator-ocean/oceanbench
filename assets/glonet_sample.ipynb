{
 "cells": [
  {
   "cell_type": "code",
   "execution_count": null,
   "id": "771f5917",
   "metadata": {},
   "outputs": [],
   "source": [
    "import oceanbench"
   ]
  },
  {
   "cell_type": "markdown",
   "id": "240d6f5a",
   "metadata": {},
   "source": [
    "### Open candidate datasets\n",
    "\n",
    "> Insert here the code that opens the candidate datasets as `candidate_datasets: List[xarray.Dataset]`"
   ]
  },
  {
   "cell_type": "code",
   "execution_count": null,
   "id": "fc80c961",
   "metadata": {},
   "outputs": [],
   "source": [
    "# Open GLONET forecast sample with xarray\n",
    "import xarray\n",
    "from typing import List\n",
    "\n",
    "candidate_datasets: List[xarray.Dataset] = [\n",
    "    xarray.open_dataset(\n",
    "        \"https://minio.dive.edito.eu/project-glonet/public/glonet_reforecast_2024/2024-01-03.zarr\",\n",
    "        engine=\"zarr\",\n",
    "    )\n",
    "]\n"
   ]
  },
  {
   "cell_type": "markdown",
   "id": "8696def8",
   "metadata": {},
   "source": [
    "### Evaluation of candidate datasets using OceanBench\n",
    "\n",
    "#### Root Mean Square Error (RMSE) compared to GLORYS"
   ]
  },
  {
   "cell_type": "code",
   "execution_count": null,
   "id": "fe46f352",
   "metadata": {},
   "outputs": [],
   "source": [
    "oceanbench.metrics.rmse_to_glorys(candidate_datasets)"
   ]
  },
  {
   "cell_type": "markdown",
   "id": "b9598373",
   "metadata": {},
   "source": [
    "#### Mixed Layer Depth (MLD) analysis"
   ]
  },
  {
   "cell_type": "code",
   "execution_count": null,
   "id": "02dd8e1b",
   "metadata": {},
   "outputs": [],
   "source": [
    "oceanbench.derived_quantities.mld(candidate_datasets)"
   ]
  },
  {
   "cell_type": "markdown",
   "id": "98196dec",
   "metadata": {},
   "source": [
    "#### Geostrophic current analysis"
   ]
  },
  {
   "cell_type": "code",
   "execution_count": null,
   "id": "a4a7af27",
   "metadata": {},
   "outputs": [],
   "source": [
    "oceanbench.derived_quantities.geostrophic_currents(candidate_datasets)"
   ]
  },
  {
   "cell_type": "markdown",
   "id": "3d63fad0",
   "metadata": {},
   "source": [
    "#### Density analysis"
   ]
  },
  {
   "cell_type": "code",
   "execution_count": null,
   "id": "8cf7952e",
   "metadata": {},
   "outputs": [],
   "source": [
    "oceanbench.derived_quantities.density(candidate_datasets)"
   ]
  },
  {
   "cell_type": "markdown",
   "id": "371a540a",
   "metadata": {},
   "source": [
    "#### Euclidean distance to GLORYS reference"
   ]
  },
  {
   "cell_type": "code",
   "execution_count": null,
   "id": "12f24f55",
   "metadata": {},
   "outputs": [],
   "source": [
    "oceanbench.metrics.euclidean_distance_to_glorys(candidate_datasets)"
   ]
  },
  {
   "cell_type": "markdown",
   "id": "a7e6e486",
   "metadata": {},
   "source": [
    "#### Energy cascading analysis"
   ]
  },
  {
   "cell_type": "code",
   "execution_count": null,
   "id": "6dfc3bfe",
   "metadata": {},
   "outputs": [],
   "source": [
    "oceanbench.metrics.energy_cascade(candidate_datasets)"
   ]
  },
  {
   "cell_type": "markdown",
   "id": "13954cee",
   "metadata": {},
   "source": [
    "#### Kinetic energy analysis"
   ]
  },
  {
   "cell_type": "code",
   "execution_count": null,
   "id": "a250dfd0",
   "metadata": {},
   "outputs": [],
   "source": [
    "oceanbench.derived_quantities.kinetic_energy(candidate_datasets)"
   ]
  },
  {
   "cell_type": "markdown",
   "id": "d779c808",
   "metadata": {},
   "source": [
    "#### Vorticity analysis"
   ]
  },
  {
   "cell_type": "code",
   "execution_count": null,
   "id": "56e7608c",
   "metadata": {},
   "outputs": [],
   "source": [
    "oceanbench.derived_quantities.vorticity(candidate_datasets)"
   ]
  },
  {
   "cell_type": "markdown",
   "id": "f0571957",
   "metadata": {},
   "source": [
    "#### Mass conservation analysis"
   ]
  },
  {
   "cell_type": "code",
   "execution_count": null,
   "id": "68ba5bda",
   "metadata": {},
   "outputs": [],
   "source": [
    "oceanbench.derived_quantities.mass_conservation(candidate_datasets)"
   ]
  }
 ],
 "metadata": {},
 "nbformat": 4,
 "nbformat_minor": 5
}
