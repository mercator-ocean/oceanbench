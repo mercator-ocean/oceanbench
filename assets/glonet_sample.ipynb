{
 "cells": [
  {
   "cell_type": "code",
   "execution_count": null,
   "id": "39ae44c4",
   "metadata": {},
   "outputs": [],
   "source": [
    "import oceanbench"
   ]
  },
  {
   "cell_type": "markdown",
   "id": "f222ff3b",
   "metadata": {},
   "source": [
    "### Open candidate datasets\n",
    "\n",
    "> Insert here the code that opens the candidate datasets as `candidate_datasets: List[xarray.Dataset]`"
   ]
  },
  {
   "cell_type": "code",
   "execution_count": null,
   "id": "76be8f3f",
   "metadata": {},
   "outputs": [],
   "source": [
    "# Open GLONET forecast sample with xarray\n",
    "import xarray\n",
    "\n",
    "candidate_datasets = [\n",
    "    xarray.open_dataset(\n",
    "        \"https://minio.dive.edito.eu/project-glonet/public/glonet_reforecast_2024/2024-01-03.zarr\",\n",
    "        engine=\"zarr\",\n",
    "    )\n",
    "]\n"
   ]
  },
  {
   "cell_type": "markdown",
   "id": "32abfcdb",
   "metadata": {},
   "source": [
    "### Evaluation of candidate datasets using OceanBench\n",
    "\n",
    "#### Root Mean Square Error (RMSE) compared to GLORYS"
   ]
  },
  {
   "cell_type": "code",
   "execution_count": null,
   "id": "8a97f761",
   "metadata": {},
   "outputs": [],
   "source": [
    "oceanbench.metrics.rmse_to_glorys(\n",
    "    candidate_datasets=candidate_datasets,\n",
    ")"
   ]
  },
  {
   "cell_type": "markdown",
   "id": "10c60b71",
   "metadata": {},
   "source": [
    "#### Mixed Layer Depth (MLD) analysis"
   ]
  },
  {
   "cell_type": "code",
   "execution_count": null,
   "id": "1bfd6bc4",
   "metadata": {},
   "outputs": [],
   "source": [
    "oceanbench.derived_quantities.mld(\n",
    "    candidate_datasets=candidate_datasets,\n",
    ")"
   ]
  },
  {
   "cell_type": "markdown",
   "id": "0eea1003",
   "metadata": {},
   "source": [
    "#### Geostrophic current analysis"
   ]
  },
  {
   "cell_type": "code",
   "execution_count": null,
   "id": "947bcc8a",
   "metadata": {},
   "outputs": [],
   "source": [
    "oceanbench.derived_quantities.geostrophic_currents(\n",
    "    candidate_datasets=candidate_datasets,\n",
    ")"
   ]
  },
  {
   "cell_type": "markdown",
   "id": "1233ca06",
   "metadata": {},
   "source": [
    "#### Density analysis"
   ]
  },
  {
   "cell_type": "code",
   "execution_count": null,
   "id": "7692573a",
   "metadata": {},
   "outputs": [],
   "source": [
    "oceanbench.derived_quantities.density(\n",
    "    candidate_datasets=candidate_datasets,\n",
    ")"
   ]
  },
  {
   "cell_type": "markdown",
   "id": "92e2f78c",
   "metadata": {},
   "source": [
    "#### Euclidean distance to GLORYS reference"
   ]
  },
  {
   "cell_type": "code",
   "execution_count": null,
   "id": "6b715dbc",
   "metadata": {},
   "outputs": [],
   "source": [
    "oceanbench.metrics.euclidean_distance_to_glorys(\n",
    "    candidate_datasets=candidate_datasets,\n",
    ")"
   ]
  },
  {
   "cell_type": "markdown",
   "id": "9ad9988b",
   "metadata": {},
   "source": [
    "#### Energy cascading analysis"
   ]
  },
  {
   "cell_type": "code",
   "execution_count": null,
   "id": "ea61b2e8",
   "metadata": {},
   "outputs": [],
   "source": [
    "oceanbench.metrics.energy_cascade(candidate_datasets)"
   ]
  },
  {
   "cell_type": "markdown",
   "id": "f57fa5f4",
   "metadata": {},
   "source": [
    "#### Kinetic energy analysis"
   ]
  },
  {
   "cell_type": "code",
   "execution_count": null,
   "id": "201b37dd",
   "metadata": {},
   "outputs": [],
   "source": [
    "oceanbench.derived_quantities.kinetic_energy(candidate_datasets)"
   ]
  },
  {
   "cell_type": "markdown",
   "id": "e64d6d24",
   "metadata": {},
   "source": [
    "#### Vorticity analysis"
   ]
  },
  {
   "cell_type": "code",
   "execution_count": null,
   "id": "9c94be41",
   "metadata": {},
   "outputs": [],
   "source": [
    "oceanbench.derived_quantities.vorticity(candidate_datasets)"
   ]
  },
  {
   "cell_type": "markdown",
   "id": "8c80f1cd",
   "metadata": {},
   "source": [
    "#### Mass conservation analysis"
   ]
  },
  {
   "cell_type": "code",
   "execution_count": null,
   "id": "3a195d47",
   "metadata": {},
   "outputs": [],
   "source": [
    "oceanbench.derived_quantities.mass_conservation(candidate_datasets)"
   ]
  }
 ],
 "metadata": {
  "language_info": {
   "name": "python"
  }
 },
 "nbformat": 4,
 "nbformat_minor": 5
}
