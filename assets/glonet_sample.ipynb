{
  "cells": [
    {
      "cell_type": "code",
      "execution_count": null,
      "id": "06ad41c1",
      "metadata": {},
      "outputs": [],
      "source": [
        "import oceanbench"
      ]
    },
    {
      "cell_type": "markdown",
      "id": "80f6d054",
      "metadata": {},
      "source": [
        "### Open candidate datasets\n",
        "\n",
        "> Insert here the code that opens the candidate datasets as `candidate_datasets: xarray.Dataset`"
      ]
    },
    {
      "cell_type": "code",
      "execution_count": null,
      "id": "2da8804b",
      "metadata": {},
      "outputs": [],
      "source": [
        "# Open GLONET forecast sample with xarray\n",
        "import xarray\n",
        "\n",
        "candidate_dataset = xarray.open_dataset(\n",
        "    \"https://minio.dive.edito.eu/project-glonet/public/glonet_reforecast_2024/2024-01-03.zarr\",\n",
        "    engine=\"zarr\",\n",
        ")\n"
      ]
    },
    {
      "cell_type": "markdown",
      "id": "33a20e74",
      "metadata": {},
      "source": [
        "### Evaluation of candidate datasets using OceanBench\n",
        "\n",
        "#### Root Mean Square Error (RMSE) compared to GLORYS"
      ]
    },
    {
      "cell_type": "code",
      "execution_count": null,
      "id": "204ba7c6",
      "metadata": {},
      "outputs": [],
      "source": [
        "nparray = oceanbench.metrics.rmse_to_glorys(\n",
        "    candidate_datasets=[candidate_dataset],\n",
        ")\n",
        "oceanbench.plot.plot_rmse(rmse_dataarray=nparray, depth=2)\n",
        "oceanbench.plot.plot_rmse_for_average_depth(rmse_dataarray=nparray)\n",
        "oceanbench.plot.plot_rmse_depth_for_average_time(\n",
        "    rmse_dataarray=nparray, dataset_depth_values=candidate_dataset.depth.values\n",
        ")"
      ]
    },
    {
      "cell_type": "markdown",
      "id": "64baec94",
      "metadata": {},
      "source": [
        "#### Mixed Layer Depth (MLD) analysis"
      ]
    },
    {
      "cell_type": "code",
      "execution_count": null,
      "id": "d6aa39b5",
      "metadata": {},
      "outputs": [],
      "source": [
        "dataset = oceanbench.derived_quantities.mld(\n",
        "    candidate_dataset=candidate_dataset,\n",
        "    lead=1,\n",
        ")\n",
        "oceanbench.plot.plot_mld(dataset=dataset)"
      ]
    },
    {
      "cell_type": "markdown",
      "id": "5e838f61",
      "metadata": {},
      "source": [
        "#### Geostrophic current analysis"
      ]
    },
    {
      "cell_type": "code",
      "execution_count": null,
      "id": "efc2163f",
      "metadata": {},
      "outputs": [],
      "source": [
        "dataset = oceanbench.derived_quantities.geostrophic_currents(\n",
        "    candidate_dataset=candidate_dataset,\n",
        "    lead=1,\n",
        "    variable=\"zos\",\n",
        ")\n",
        "oceanbench.plot.plot_geo(dataset=dataset)"
      ]
    },
    {
      "cell_type": "markdown",
      "id": "d3363b4b",
      "metadata": {},
      "source": [
        "#### Density analysis"
      ]
    },
    {
      "cell_type": "code",
      "execution_count": null,
      "id": "77dc3e66",
      "metadata": {},
      "outputs": [],
      "source": [
        "dataarray = oceanbench.derived_quantities.density(\n",
        "    candidate_dataset=candidate_dataset,\n",
        "    lead=1,\n",
        "    minimum_longitude=-100,\n",
        "    maximum_longitude=-40,\n",
        "    minimum_latitude=-15,\n",
        "    maximum_latitude=50,\n",
        ")\n",
        "oceanbench.plot.plot_density(dataarray=dataarray)"
      ]
    },
    {
      "cell_type": "markdown",
      "id": "bff82d14",
      "metadata": {},
      "source": [
        "#### Euclidean distance to GLORYS reference"
      ]
    },
    {
      "cell_type": "code",
      "execution_count": null,
      "id": "483d313c",
      "metadata": {},
      "outputs": [],
      "source": [
        "euclidean_distance = oceanbench.metrics.euclidean_distance_to_glorys(\n",
        "    candidate_dataset=candidate_dataset,\n",
        "    minimum_latitude=466,\n",
        "    maximum_latitude=633,\n",
        "    minimum_longitude=400,\n",
        "    maximum_longitude=466,\n",
        ")\n",
        "oceanbench.plot.plot_euclidean_distance(euclidean_distance)"
      ]
    },
    {
      "cell_type": "markdown",
      "id": "8995d5ad",
      "metadata": {},
      "source": [
        "#### Energy cascading analysis"
      ]
    },
    {
      "cell_type": "code",
      "execution_count": null,
      "id": "b74d5026",
      "metadata": {},
      "outputs": [],
      "source": [
        "_, gglonet_sc = oceanbench.metrics.energy_cascade(candidate_dataset, \"uo\", 0, 1 / 4)\n",
        "oceanbench.plot.plot_energy_cascade(gglonet_sc)"
      ]
    },
    {
      "cell_type": "markdown",
      "id": "e00db974",
      "metadata": {},
      "source": [
        "#### Kinetic energy analysis"
      ]
    },
    {
      "cell_type": "code",
      "execution_count": null,
      "id": "2df20b28",
      "metadata": {},
      "outputs": [],
      "source": [
        "oceanbench.derived_quantities.kinetic_energy(candidate_dataset)\n",
        "oceanbench.plot.plot_kinetic_energy(candidate_dataset)"
      ]
    },
    {
      "cell_type": "markdown",
      "id": "700710a1",
      "metadata": {},
      "source": [
        "#### Vorticity analysis"
      ]
    },
    {
      "cell_type": "code",
      "execution_count": null,
      "id": "fec4c38e",
      "metadata": {},
      "outputs": [],
      "source": [
        "oceanbench.derived_quantities.vorticity(candidate_dataset)\n",
        "oceanbench.plot.plot_vorticity(candidate_dataset)"
      ]
    },
    {
      "cell_type": "markdown",
      "id": "f2076201",
      "metadata": {},
      "source": [
        "#### Mass conservation analysis"
      ]
    },
    {
      "cell_type": "code",
      "execution_count": null,
      "id": "92e93212",
      "metadata": {},
      "outputs": [],
      "source": [
        "mean_div_time_series = oceanbench.derived_quantities.mass_conservation(\n",
        "    candidate_dataset, 0, deg_resolution=0.25\n",
        ")  # should be close to zero\n",
        "print(mean_div_time_series.data)  # time-dependent scores"
      ]
    }
  ],
  "metadata": {},
  "nbformat": 4,
  "nbformat_minor": 5
}
