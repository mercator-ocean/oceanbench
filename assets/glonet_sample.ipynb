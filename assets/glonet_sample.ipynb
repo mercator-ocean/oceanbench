{
 "cells": [
  {
   "cell_type": "code",
   "execution_count": null,
   "id": "ab26c3ec",
   "metadata": {},
   "outputs": [],
   "source": [
    "import oceanbench\n",
    "\n",
    "oceanbench.__version__"
   ]
  },
  {
   "cell_type": "markdown",
   "id": "d1f9b4b2",
   "metadata": {},
   "source": [
    "### Open candidate datasets\n",
    "\n",
    "> Insert here the code that opens the candidate datasets as `candidate_datasets: List[xarray.Dataset]`"
   ]
  },
  {
   "cell_type": "code",
   "execution_count": null,
   "id": "220117bd",
   "metadata": {},
   "outputs": [],
   "source": [
    "# Open GLONET forecast sample with xarray\n",
    "from functools import reduce\n",
    "import xarray\n",
    "from typing import List\n",
    "\n",
    "LATITUDE_CLIMATE_FORECAST_ATTRIBUTES = {\n",
    "    \"standard_name\": \"latitude\",\n",
    "    \"long_name\": \"Latitude\",\n",
    "    \"units\": \"degrees_north\",\n",
    "    \"units_long\": \"Degrees North\",\n",
    "    \"axis\": \"Y\",\n",
    "}\n",
    "\n",
    "LONGITUDE_CLIMATE_FORECAST_ATTRIBUTES = {\n",
    "    \"standard_name\": \"longitude\",\n",
    "    \"long_name\": \"Longitude\",\n",
    "    \"units\": \"degrees_east\",\n",
    "    \"units_long\": \"Degrees East\",\n",
    "    \"axis\": \"X\",\n",
    "}\n",
    "\n",
    "DEPTH_CLIMATE_FORECAST_ATTRIBUTES = {\n",
    "    \"standard_name\": \"depth\",\n",
    "    \"long_name\": \"Depth\",\n",
    "    \"units\": \"m\",\n",
    "    \"units_long\": \"Meters\",\n",
    "}\n",
    "\n",
    "TIME_CLIMATE_FORECAST_ATTRIBUTES = {\n",
    "    \"standard_name\": \"time\",\n",
    "    \"long_name\": \"Time\",\n",
    "    \"axis\": \"T\",\n",
    "}\n",
    "\n",
    "\n",
    "def _update_variable_attributes(\n",
    "    dataset: xarray.Dataset,\n",
    "    variable_name_and_attributes: tuple[str, dict[str, str]],\n",
    ") -> xarray.Dataset:\n",
    "    variable_name, attributes = variable_name_and_attributes\n",
    "    dataset[variable_name].attrs = attributes\n",
    "    return dataset\n",
    "\n",
    "\n",
    "def _add_climate_forecast_attributes(\n",
    "    dataset: xarray.Dataset,\n",
    ") -> xarray.Dataset:\n",
    "    return reduce(\n",
    "        _update_variable_attributes,\n",
    "        zip(\n",
    "            [\"lat\", \"lon\", \"depth\", \"time\"],\n",
    "            [\n",
    "                LATITUDE_CLIMATE_FORECAST_ATTRIBUTES,\n",
    "                LONGITUDE_CLIMATE_FORECAST_ATTRIBUTES,\n",
    "                DEPTH_CLIMATE_FORECAST_ATTRIBUTES,\n",
    "                TIME_CLIMATE_FORECAST_ATTRIBUTES,\n",
    "            ],\n",
    "        ),\n",
    "        dataset,\n",
    "    )\n",
    "\n",
    "\n",
    "candidate_datasets: List[xarray.Dataset] = [\n",
    "    _add_climate_forecast_attributes(\n",
    "        xarray.open_dataset(\n",
    "            \"https://minio.dive.edito.eu/project-glonet/public/glonet_reforecast_2024/2024-01-03.zarr\",\n",
    "            engine=\"zarr\",\n",
    "        )\n",
    "    )\n",
    "]\n"
   ]
  },
  {
   "cell_type": "markdown",
   "id": "8ccbf45d",
   "metadata": {},
   "source": [
    "### Evaluation of candidate datasets using OceanBench\n",
    "\n",
    "#### Root Mean Square Error (RMSE) compared to GLORYS"
   ]
  },
  {
   "cell_type": "code",
   "execution_count": null,
   "id": "9b13e8a1",
   "metadata": {},
   "outputs": [],
   "source": [
    "oceanbench.metrics.rmse_to_glorys(candidate_datasets)"
   ]
  },
  {
   "cell_type": "markdown",
   "id": "bc90ce67",
   "metadata": {},
   "source": [
    "#### Mixed Layer Depth (MLD) analysis"
   ]
  },
  {
   "cell_type": "code",
   "execution_count": null,
   "id": "acf74549",
   "metadata": {},
   "outputs": [],
   "source": [
    "oceanbench.derived_quantities.mld(candidate_datasets)"
   ]
  },
  {
   "cell_type": "markdown",
   "id": "4198727c",
   "metadata": {},
   "source": [
    "#### Geostrophic current analysis"
   ]
  },
  {
   "cell_type": "code",
   "execution_count": null,
   "id": "29a48581",
   "metadata": {},
   "outputs": [],
   "source": [
    "oceanbench.derived_quantities.geostrophic_currents(candidate_datasets)"
   ]
  },
  {
   "cell_type": "markdown",
   "id": "3633d81b",
   "metadata": {},
   "source": [
    "#### Density analysis"
   ]
  },
  {
   "cell_type": "code",
   "execution_count": null,
   "id": "90a1bd44",
   "metadata": {},
   "outputs": [],
   "source": [
    "oceanbench.derived_quantities.density(candidate_datasets)"
   ]
  },
  {
   "cell_type": "markdown",
   "id": "d783f545",
   "metadata": {},
   "source": [
    "#### Euclidean distance to GLORYS reference"
   ]
  },
  {
   "cell_type": "code",
   "execution_count": null,
   "id": "03aad869",
   "metadata": {},
   "outputs": [],
   "source": [
    "oceanbench.metrics.euclidean_distance_to_glorys(candidate_datasets)"
   ]
  },
  {
   "cell_type": "markdown",
   "id": "668ca06a",
   "metadata": {},
   "source": [
    "#### Energy cascading analysis"
   ]
  },
  {
   "cell_type": "code",
   "execution_count": null,
   "id": "4854a148",
   "metadata": {},
   "outputs": [],
   "source": [
    "oceanbench.metrics.energy_cascade(candidate_datasets)"
   ]
  },
  {
   "cell_type": "markdown",
   "id": "dda74cdb",
   "metadata": {},
   "source": [
    "#### Kinetic energy analysis"
   ]
  },
  {
   "cell_type": "code",
   "execution_count": null,
   "id": "33024014",
   "metadata": {},
   "outputs": [],
   "source": [
    "oceanbench.derived_quantities.kinetic_energy(candidate_datasets)"
   ]
  },
  {
   "cell_type": "markdown",
   "id": "a278444d",
   "metadata": {},
   "source": [
    "#### Vorticity analysis"
   ]
  },
  {
   "cell_type": "code",
   "execution_count": null,
   "id": "6894ffca",
   "metadata": {},
   "outputs": [],
   "source": [
    "oceanbench.derived_quantities.vorticity(candidate_datasets)"
   ]
  },
  {
   "cell_type": "markdown",
   "id": "141e2a64",
   "metadata": {},
   "source": [
    "#### Mass conservation analysis"
   ]
  },
  {
   "cell_type": "code",
   "execution_count": null,
   "id": "3fcd6b20",
   "metadata": {},
   "outputs": [],
   "source": [
    "oceanbench.derived_quantities.mass_conservation(candidate_datasets)"
   ]
  }
 ],
 "metadata": {},
 "nbformat": 4,
 "nbformat_minor": 5
}
