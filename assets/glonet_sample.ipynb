{
 "cells": [
  {
   "cell_type": "code",
   "execution_count": null,
   "id": "96298a94",
   "metadata": {},
   "outputs": [],
   "source": [
    "import oceanbench\n",
    "\n",
    "oceanbench.__version__"
   ]
  },
  {
   "cell_type": "markdown",
   "id": "5db809bf",
   "metadata": {},
   "source": [
    "### Open candidate datasets\n",
    "\n",
    "> Insert here the code that opens the candidate datasets as `candidate_datasets: List[xarray.Dataset]`"
   ]
  },
  {
   "cell_type": "code",
   "execution_count": null,
   "id": "1bd5602e",
   "metadata": {},
   "outputs": [],
   "source": [
    "# Open GLONET forecast sample with xarray\n",
    "import xarray\n",
    "from typing import List\n",
    "\n",
    "candidate_datasets: List[xarray.Dataset] = [\n",
    "    xarray.open_dataset(\n",
    "        \"https://minio.dive.edito.eu/project-glonet/public/glonet_reforecast_2024/2024-01-03.zarr\",\n",
    "        engine=\"zarr\",\n",
    "    )\n",
    "]\n"
   ]
  },
  {
   "cell_type": "markdown",
   "id": "1dc53679",
   "metadata": {},
   "source": [
    "### Evaluation of candidate datasets using OceanBench\n",
    "\n",
    "#### Root Mean Square Error (RMSE) compared to GLORYS"
   ]
  },
  {
   "cell_type": "code",
   "execution_count": null,
   "id": "bf971178",
   "metadata": {},
   "outputs": [],
   "source": [
    "oceanbench.metrics.rmse_to_glorys(candidate_datasets, pretty=True)"
   ]
  },
  {
   "cell_type": "markdown",
   "id": "4b1ac409",
   "metadata": {},
   "source": [
    "#### Mixed Layer Depth (MLD) analysis"
   ]
  },
  {
   "cell_type": "code",
   "execution_count": null,
   "id": "29c2791a",
   "metadata": {},
   "outputs": [],
   "source": [
    "oceanbench.derived_quantities.mld(candidate_datasets)"
   ]
  },
  {
   "cell_type": "markdown",
   "id": "b08adfe1",
   "metadata": {},
   "source": [
    "#### Geostrophic current analysis"
   ]
  },
  {
   "cell_type": "code",
   "execution_count": null,
   "id": "aa3e1df4",
   "metadata": {},
   "outputs": [],
   "source": [
    "oceanbench.derived_quantities.geostrophic_currents(candidate_datasets)"
   ]
  },
  {
   "cell_type": "markdown",
   "id": "9b0704d1",
   "metadata": {},
   "source": [
    "#### Density analysis"
   ]
  },
  {
   "cell_type": "code",
   "execution_count": null,
   "id": "9c0a353c",
   "metadata": {},
   "outputs": [],
   "source": [
    "oceanbench.derived_quantities.density(candidate_datasets)"
   ]
  },
  {
   "cell_type": "markdown",
   "id": "0c13f7bc",
   "metadata": {},
   "source": [
    "#### Euclidean distance to GLORYS reference"
   ]
  },
  {
   "cell_type": "code",
   "execution_count": null,
   "id": "12e6587c",
   "metadata": {},
   "outputs": [],
   "source": [
    "oceanbench.metrics.euclidean_distance_to_glorys(candidate_datasets)"
   ]
  },
  {
   "cell_type": "markdown",
   "id": "a5fb97a9",
   "metadata": {},
   "source": [
    "#### Energy cascading analysis"
   ]
  },
  {
   "cell_type": "code",
   "execution_count": null,
   "id": "37a6e697",
   "metadata": {},
   "outputs": [],
   "source": [
    "oceanbench.metrics.energy_cascade(candidate_datasets)"
   ]
  },
  {
   "cell_type": "markdown",
   "id": "0e39ca08",
   "metadata": {},
   "source": [
    "#### Kinetic energy analysis"
   ]
  },
  {
   "cell_type": "code",
   "execution_count": null,
   "id": "babbc1a7",
   "metadata": {},
   "outputs": [],
   "source": [
    "oceanbench.derived_quantities.kinetic_energy(candidate_datasets)"
   ]
  },
  {
   "cell_type": "markdown",
   "id": "441d66f1",
   "metadata": {},
   "source": [
    "#### Vorticity analysis"
   ]
  },
  {
   "cell_type": "code",
   "execution_count": null,
   "id": "2b366cef",
   "metadata": {},
   "outputs": [],
   "source": [
    "oceanbench.derived_quantities.vorticity(candidate_datasets)"
   ]
  },
  {
   "cell_type": "markdown",
   "id": "18e969f0",
   "metadata": {},
   "source": [
    "#### Mass conservation analysis"
   ]
  },
  {
   "cell_type": "code",
   "execution_count": null,
   "id": "0a5b22ff",
   "metadata": {},
   "outputs": [],
   "source": [
    "oceanbench.derived_quantities.mass_conservation(candidate_datasets)"
   ]
  }
 ],
 "metadata": {},
 "nbformat": 4,
 "nbformat_minor": 5
}
