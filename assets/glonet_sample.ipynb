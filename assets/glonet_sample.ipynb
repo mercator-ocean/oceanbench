{
 "cells": [
  {
   "cell_type": "code",
   "execution_count": null,
   "id": "3f84eb86",
   "metadata": {},
   "outputs": [],
   "source": [
    "import oceanbench"
   ]
  },
  {
   "cell_type": "markdown",
   "id": "f6c4da3a",
   "metadata": {},
   "source": [
    "### Open candidate datasets\n",
    "\n",
    "> Insert here the code that opens the candidate datasets as `candidate_datasets: List[xarray.Dataset]`"
   ]
  },
  {
   "cell_type": "code",
   "execution_count": null,
   "id": "aca5a1f2",
   "metadata": {},
   "outputs": [],
   "source": [
    "# Open GLONET forecast sample with xarray\n",
    "import xarray\n",
    "\n",
    "candidate_datasets = [\n",
    "    xarray.open_dataset(\n",
    "        \"https://minio.dive.edito.eu/project-glonet/public/glonet_reforecast_2024/2024-01-03.zarr\",\n",
    "        engine=\"zarr\",\n",
    "    )\n",
    "]\n"
   ]
  },
  {
   "cell_type": "markdown",
   "id": "10f3d2d0",
   "metadata": {},
   "source": [
    "### Evaluation of candidate datasets using OceanBench\n",
    "\n",
    "#### Root Mean Square Error (RMSE) compared to GLORYS"
   ]
  },
  {
   "cell_type": "code",
   "execution_count": null,
   "id": "8959f0d4",
   "metadata": {},
   "outputs": [],
   "source": [
    "oceanbench.metrics.rmse_to_glorys(\n",
    "    candidate_datasets=candidate_datasets,\n",
    ")"
   ]
  },
  {
   "cell_type": "markdown",
   "id": "e756d83a",
   "metadata": {},
   "source": [
    "#### Mixed Layer Depth (MLD) analysis"
   ]
  },
  {
   "cell_type": "code",
   "execution_count": null,
   "id": "d7ece3b7",
   "metadata": {},
   "outputs": [],
   "source": [
    "oceanbench.derived_quantities.mld(\n",
    "    candidate_datasets=candidate_datasets,\n",
    ")"
   ]
  },
  {
   "cell_type": "markdown",
   "id": "8735dd27",
   "metadata": {},
   "source": [
    "#### Geostrophic current analysis"
   ]
  },
  {
   "cell_type": "code",
   "execution_count": null,
   "id": "ab2791c7",
   "metadata": {},
   "outputs": [],
   "source": [
    "oceanbench.derived_quantities.geostrophic_currents(\n",
    "    candidate_datasets=candidate_datasets,\n",
    ")"
   ]
  },
  {
   "cell_type": "markdown",
   "id": "62b67f1d",
   "metadata": {},
   "source": [
    "#### Density analysis"
   ]
  },
  {
   "cell_type": "code",
   "execution_count": null,
   "id": "ad1028a2",
   "metadata": {},
   "outputs": [],
   "source": [
    "oceanbench.derived_quantities.density(\n",
    "    candidate_datasets=candidate_datasets,\n",
    ")"
   ]
  },
  {
   "cell_type": "markdown",
   "id": "5ff1c473",
   "metadata": {},
   "source": [
    "#### Euclidean distance to GLORYS reference"
   ]
  },
  {
   "cell_type": "code",
   "execution_count": null,
   "id": "549376b2",
   "metadata": {},
   "outputs": [],
   "source": [
    "oceanbench.metrics.euclidean_distance_to_glorys(\n",
    "    candidate_datasets=candidate_datasets,\n",
    ")"
   ]
  },
  {
   "cell_type": "markdown",
   "id": "ff66957c",
   "metadata": {},
   "source": [
    "#### Energy cascading analysis"
   ]
  },
  {
   "cell_type": "code",
   "execution_count": null,
   "id": "990f27c1",
   "metadata": {},
   "outputs": [],
   "source": [
    "oceanbench.metrics.energy_cascade(candidate_datasets)"
   ]
  },
  {
   "cell_type": "markdown",
   "id": "d5dccb17",
   "metadata": {},
   "source": [
    "#### Kinetic energy analysis"
   ]
  },
  {
   "cell_type": "code",
   "execution_count": null,
   "id": "2e52605f",
   "metadata": {},
   "outputs": [],
   "source": [
    "oceanbench.derived_quantities.kinetic_energy(candidate_datasets)"
   ]
  },
  {
   "cell_type": "markdown",
   "id": "d4066b95",
   "metadata": {},
   "source": [
    "#### Vorticity analysis"
   ]
  },
  {
   "cell_type": "code",
   "execution_count": null,
   "id": "860550b8",
   "metadata": {},
   "outputs": [],
   "source": [
    "oceanbench.derived_quantities.vorticity(candidate_datasets)"
   ]
  },
  {
   "cell_type": "markdown",
   "id": "ca063616",
   "metadata": {},
   "source": [
    "#### Mass conservation analysis"
   ]
  },
  {
   "cell_type": "code",
   "execution_count": null,
   "id": "719bb926",
   "metadata": {},
   "outputs": [],
   "source": [
    "oceanbench.derived_quantities.mass_conservation(candidate_datasets)"
   ]
  }
 ],
 "metadata": {},
 "nbformat": 4,
 "nbformat_minor": 5
}
