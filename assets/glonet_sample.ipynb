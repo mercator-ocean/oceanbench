{
 "cells": [
  {
   "cell_type": "code",
   "execution_count": null,
   "id": "51931a4a",
   "metadata": {},
   "outputs": [],
   "source": [
    "import oceanbench\n",
    "\n",
    "oceanbench.__version__"
   ]
  },
  {
   "cell_type": "markdown",
   "id": "012f4f6a",
   "metadata": {},
   "source": [
    "### Open candidate datasets\n",
    "\n",
    "> Insert here the code that opens the candidate datasets as `candidate_datasets: List[xarray.Dataset]`"
   ]
  },
  {
   "cell_type": "code",
   "execution_count": null,
   "id": "66e45af4",
   "metadata": {},
   "outputs": [],
   "source": [
    "# Open GLONET forecast sample with xarray\n",
    "import xarray\n",
    "from typing import List\n",
    "\n",
    "candidate_datasets: List[xarray.Dataset] = [\n",
    "    xarray.open_dataset(\n",
    "        \"https://minio.dive.edito.eu/project-glonet/public/glonet_reforecast_2024/2024-01-03.zarr\",\n",
    "        engine=\"zarr\",\n",
    "    )\n",
    "]\n"
   ]
  },
  {
   "cell_type": "markdown",
   "id": "b0798da3",
   "metadata": {},
   "source": [
    "### Evaluation of candidate datasets using OceanBench\n",
    "\n",
    "#### Root Mean Square Error (RMSE) compared to GLORYS"
   ]
  },
  {
   "cell_type": "code",
   "execution_count": null,
   "id": "c4514f0d",
   "metadata": {},
   "outputs": [],
   "source": [
    "oceanbench.metrics.rmse_to_glorys(candidate_datasets, display_html=True)"
   ]
  },
  {
   "cell_type": "markdown",
   "id": "3c99839f",
   "metadata": {},
   "source": [
    "#### Mixed Layer Depth (MLD) analysis"
   ]
  },
  {
   "cell_type": "code",
   "execution_count": null,
   "id": "f2ac204f",
   "metadata": {},
   "outputs": [],
   "source": [
    "oceanbench.derived_quantities.mld(candidate_datasets)"
   ]
  },
  {
   "cell_type": "markdown",
   "id": "d7f4de7e",
   "metadata": {},
   "source": [
    "#### Geostrophic current analysis"
   ]
  },
  {
   "cell_type": "code",
   "execution_count": null,
   "id": "caa656ab",
   "metadata": {},
   "outputs": [],
   "source": [
    "oceanbench.derived_quantities.geostrophic_currents(candidate_datasets)"
   ]
  },
  {
   "cell_type": "markdown",
   "id": "65e91219",
   "metadata": {},
   "source": [
    "#### Density analysis"
   ]
  },
  {
   "cell_type": "code",
   "execution_count": null,
   "id": "1438ebfc",
   "metadata": {},
   "outputs": [],
   "source": [
    "oceanbench.derived_quantities.density(candidate_datasets)"
   ]
  },
  {
   "cell_type": "markdown",
   "id": "9835a09d",
   "metadata": {},
   "source": [
    "#### Euclidean distance to GLORYS reference"
   ]
  },
  {
   "cell_type": "code",
   "execution_count": null,
   "id": "f9bd84c0",
   "metadata": {},
   "outputs": [],
   "source": [
    "oceanbench.metrics.euclidean_distance_to_glorys(candidate_datasets)"
   ]
  },
  {
   "cell_type": "markdown",
   "id": "6808b092",
   "metadata": {},
   "source": [
    "#### Energy cascading analysis"
   ]
  },
  {
   "cell_type": "code",
   "execution_count": null,
   "id": "d78e1ec1",
   "metadata": {},
   "outputs": [],
   "source": [
    "oceanbench.metrics.energy_cascade(candidate_datasets)"
   ]
  },
  {
   "cell_type": "markdown",
   "id": "6e884688",
   "metadata": {},
   "source": [
    "#### Kinetic energy analysis"
   ]
  },
  {
   "cell_type": "code",
   "execution_count": null,
   "id": "410cb8bf",
   "metadata": {},
   "outputs": [],
   "source": [
    "oceanbench.derived_quantities.kinetic_energy(candidate_datasets)"
   ]
  },
  {
   "cell_type": "markdown",
   "id": "54869780",
   "metadata": {},
   "source": [
    "#### Vorticity analysis"
   ]
  },
  {
   "cell_type": "code",
   "execution_count": null,
   "id": "0519b813",
   "metadata": {},
   "outputs": [],
   "source": [
    "oceanbench.derived_quantities.vorticity(candidate_datasets)"
   ]
  },
  {
   "cell_type": "markdown",
   "id": "33da314c",
   "metadata": {},
   "source": [
    "#### Mass conservation analysis"
   ]
  },
  {
   "cell_type": "code",
   "execution_count": null,
   "id": "63531899",
   "metadata": {},
   "outputs": [],
   "source": [
    "oceanbench.derived_quantities.mass_conservation(candidate_datasets)"
   ]
  }
 ],
 "metadata": {},
 "nbformat": 4,
 "nbformat_minor": 5
}
