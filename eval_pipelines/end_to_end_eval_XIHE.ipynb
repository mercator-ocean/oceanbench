{
 "cells": [
  {
   "cell_type": "code",
   "execution_count": 1,
   "id": "dfd37547-dee0-4f78-bcd4-69c9abf546c5",
   "metadata": {},
   "outputs": [],
   "source": [
    "# Import libraries\n",
    "import multiprocessing\n",
    "import numpy as np\n",
    "import xarray as xr\n",
    "import matplotlib.pyplot as plt\n",
    "from datetime import date, timedelta                                                                                                               \n",
    "import oceanbench\n",
    "import os\n",
    "import pandas as pd\n"
   ]
  },
  {
   "cell_type": "code",
   "execution_count": 2,
   "id": "18daeae6-7e6e-4496-bc23-2a8ec55f0292",
   "metadata": {},
   "outputs": [],
   "source": [
    "gnet_files = sorted([os.path.join('/data/data/toeval/xihe2/', f) for f in os.listdir('/data/data/toeval/xihe2') if f.endswith(\".nc\")])\n",
    "gnetset = [xr.open_dataset(f) for f in gnet_files]\n",
    "grys_files = sorted([os.path.join('/data/data/GLOREF/XIHE2/', f) for f in os.listdir('/data/data/GLOREF/XIHE2/') if f.endswith(\".nc\")])\n",
    "grysset = [xr.open_dataset(f) for f in grys_files]\n",
    "\n",
    "####### some data have lat/lon other latitude longitude. so it would be nice if all functions can take both\n",
    "grysset = [\n",
    "    ds.rename({\"latitude\": \"lat\", \"longitude\": \"lon\"}) \n",
    "    for ds in grysset\n",
    "]\n",
    "gnetset = [\n",
    "    ds.rename({k: v for k, v in {\"latitude\": \"lat\", \"longitude\": \"lon\"}.items() if k in ds})\n",
    "    for ds in gnetset\n",
    "]\n",
    "\n"
   ]
  },
  {
   "cell_type": "code",
   "execution_count": 3,
   "id": "ff7b413b-78fb-420c-ba5d-35cd2ff51bf0",
   "metadata": {},
   "outputs": [
    {
     "name": "stdout",
     "output_type": "stream",
     "text": [
      "depth=0\n",
      "depth=1\n",
      "depth=2\n",
      "depth=3\n",
      "depth=4\n",
      "depth=5\n",
      "depth=6\n",
      "depth=7\n",
      "depth=8\n",
      "depth=9\n",
      "depth=10\n",
      "depth=11\n",
      "depth=12\n",
      "depth=13\n",
      "depth=14\n",
      "depth=15\n",
      "depth=16\n",
      "depth=17\n",
      "depth=18\n",
      "depth=19\n"
     ]
    }
   ],
   "source": [
    "vars_eval = oceanbench.metrics.rmse(\n",
    "    glonet_datasets=gnetset,\n",
    "    glorys_datasets=grysset,\n",
    ")\n",
    "\n"
   ]
  },
  {
   "cell_type": "code",
   "execution_count": 4,
   "id": "2d7e5e0a-bb81-406d-a54d-b970d22179f4",
   "metadata": {},
   "outputs": [],
   "source": [
    "uo=np.array(vars_eval.item()['uo'])\n",
    "vo=np.array(vars_eval.item()['vo'])\n",
    "thetao=np.array(vars_eval.item()['thetao'])\n",
    "so=np.array(vars_eval.item()['so'])\n",
    "zos=np.array(vars_eval.item()['zos'])"
   ]
  },
  {
   "cell_type": "code",
   "execution_count": 5,
   "id": "d07db236-0ef4-45dd-81d0-afbb3e01a497",
   "metadata": {},
   "outputs": [
    {
     "data": {
      "text/html": [
       "<h1 style=\"color:red; text-align:center;\">Surface uo Score</h1>"
      ],
      "text/plain": [
       "<IPython.core.display.HTML object>"
      ]
     },
     "metadata": {},
     "output_type": "display_data"
    },
    {
     "data": {
      "text/html": [
       "<style type=\"text/css\">\n",
       "#T_bd3a7_row0_col0, #T_bd3a7_row0_col1, #T_bd3a7_row0_col2, #T_bd3a7_row0_col3, #T_bd3a7_row0_col4, #T_bd3a7_row0_col5, #T_bd3a7_row0_col6, #T_bd3a7_row0_col7, #T_bd3a7_row0_col8, #T_bd3a7_row0_col9, #T_bd3a7_row1_col0, #T_bd3a7_row1_col1, #T_bd3a7_row1_col2, #T_bd3a7_row1_col3, #T_bd3a7_row1_col4, #T_bd3a7_row1_col5, #T_bd3a7_row1_col6, #T_bd3a7_row1_col7, #T_bd3a7_row1_col8, #T_bd3a7_row1_col9 {\n",
       "  border: 1px solid black;\n",
       "  text-align: center;\n",
       "}\n",
       "</style>\n",
       "<table id=\"T_bd3a7\">\n",
       "  <thead>\n",
       "    <tr>\n",
       "      <th class=\"blank level0\" >&nbsp;</th>\n",
       "      <th id=\"T_bd3a7_level0_col0\" class=\"col_heading level0 col0\" >0</th>\n",
       "      <th id=\"T_bd3a7_level0_col1\" class=\"col_heading level0 col1\" >1</th>\n",
       "      <th id=\"T_bd3a7_level0_col2\" class=\"col_heading level0 col2\" >2</th>\n",
       "      <th id=\"T_bd3a7_level0_col3\" class=\"col_heading level0 col3\" >3</th>\n",
       "      <th id=\"T_bd3a7_level0_col4\" class=\"col_heading level0 col4\" >4</th>\n",
       "      <th id=\"T_bd3a7_level0_col5\" class=\"col_heading level0 col5\" >5</th>\n",
       "      <th id=\"T_bd3a7_level0_col6\" class=\"col_heading level0 col6\" >6</th>\n",
       "      <th id=\"T_bd3a7_level0_col7\" class=\"col_heading level0 col7\" >7</th>\n",
       "      <th id=\"T_bd3a7_level0_col8\" class=\"col_heading level0 col8\" >8</th>\n",
       "      <th id=\"T_bd3a7_level0_col9\" class=\"col_heading level0 col9\" >9</th>\n",
       "    </tr>\n",
       "  </thead>\n",
       "  <tbody>\n",
       "    <tr>\n",
       "      <th id=\"T_bd3a7_level0_row0\" class=\"row_heading level0 row0\" ></th>\n",
       "      <td id=\"T_bd3a7_row0_col0\" class=\"data row0 col0\" >Lead Day 1</td>\n",
       "      <td id=\"T_bd3a7_row0_col1\" class=\"data row0 col1\" >Lead Day 2</td>\n",
       "      <td id=\"T_bd3a7_row0_col2\" class=\"data row0 col2\" >Lead Day 3</td>\n",
       "      <td id=\"T_bd3a7_row0_col3\" class=\"data row0 col3\" >Lead Day 4</td>\n",
       "      <td id=\"T_bd3a7_row0_col4\" class=\"data row0 col4\" >Lead Day 5</td>\n",
       "      <td id=\"T_bd3a7_row0_col5\" class=\"data row0 col5\" >Lead Day 6</td>\n",
       "      <td id=\"T_bd3a7_row0_col6\" class=\"data row0 col6\" >Lead Day 7</td>\n",
       "      <td id=\"T_bd3a7_row0_col7\" class=\"data row0 col7\" >Lead Day 8</td>\n",
       "      <td id=\"T_bd3a7_row0_col8\" class=\"data row0 col8\" >Lead Day 9</td>\n",
       "      <td id=\"T_bd3a7_row0_col9\" class=\"data row0 col9\" >Lead Day 10</td>\n",
       "    </tr>\n",
       "    <tr>\n",
       "      <th id=\"T_bd3a7_level0_row1\" class=\"row_heading level0 row1\" >Score</th>\n",
       "      <td id=\"T_bd3a7_row1_col0\" class=\"data row1 col0\" >0.124803</td>\n",
       "      <td id=\"T_bd3a7_row1_col1\" class=\"data row1 col1\" >0.121870</td>\n",
       "      <td id=\"T_bd3a7_row1_col2\" class=\"data row1 col2\" >0.121857</td>\n",
       "      <td id=\"T_bd3a7_row1_col3\" class=\"data row1 col3\" >0.122193</td>\n",
       "      <td id=\"T_bd3a7_row1_col4\" class=\"data row1 col4\" >0.122388</td>\n",
       "      <td id=\"T_bd3a7_row1_col5\" class=\"data row1 col5\" >0.123161</td>\n",
       "      <td id=\"T_bd3a7_row1_col6\" class=\"data row1 col6\" >0.121867</td>\n",
       "      <td id=\"T_bd3a7_row1_col7\" class=\"data row1 col7\" >0.127186</td>\n",
       "      <td id=\"T_bd3a7_row1_col8\" class=\"data row1 col8\" >0.128346</td>\n",
       "      <td id=\"T_bd3a7_row1_col9\" class=\"data row1 col9\" >0.129918</td>\n",
       "    </tr>\n",
       "  </tbody>\n",
       "</table>\n"
      ],
      "text/plain": [
       "<pandas.io.formats.style.Styler at 0x7fe34270b310>"
      ]
     },
     "execution_count": 5,
     "metadata": {},
     "output_type": "execute_result"
    }
   ],
   "source": [
    "from IPython.display import display, HTML\n",
    "\n",
    "display(HTML('<h1 style=\"color:red; text-align:center;\">Surface uo Score</h1>'))\n",
    "df = pd.DataFrame([[\"Lead Day \" + str(i+1) for i in range(10)], uo[0,:]])\n",
    "df.index = [\"\", \"Score\"]\n",
    "df.style.set_properties(**{\"border\": \"1px solid black\", \"text-align\": \"center\"})\n"
   ]
  },
  {
   "cell_type": "code",
   "execution_count": 6,
   "id": "430aac9c-801f-4bad-b679-4f3c7cba16a0",
   "metadata": {},
   "outputs": [
    {
     "data": {
      "text/html": [
       "<h1 style=\"color:red; text-align:center;\">50m uo Score</h1>"
      ],
      "text/plain": [
       "<IPython.core.display.HTML object>"
      ]
     },
     "metadata": {},
     "output_type": "display_data"
    },
    {
     "data": {
      "text/html": [
       "<style type=\"text/css\">\n",
       "#T_ad205_row0_col0, #T_ad205_row0_col1, #T_ad205_row0_col2, #T_ad205_row0_col3, #T_ad205_row0_col4, #T_ad205_row0_col5, #T_ad205_row0_col6, #T_ad205_row0_col7, #T_ad205_row0_col8, #T_ad205_row0_col9, #T_ad205_row1_col0, #T_ad205_row1_col1, #T_ad205_row1_col2, #T_ad205_row1_col3, #T_ad205_row1_col4, #T_ad205_row1_col5, #T_ad205_row1_col6, #T_ad205_row1_col7, #T_ad205_row1_col8, #T_ad205_row1_col9 {\n",
       "  border: 1px solid black;\n",
       "  text-align: center;\n",
       "}\n",
       "</style>\n",
       "<table id=\"T_ad205\">\n",
       "  <thead>\n",
       "    <tr>\n",
       "      <th class=\"blank level0\" >&nbsp;</th>\n",
       "      <th id=\"T_ad205_level0_col0\" class=\"col_heading level0 col0\" >0</th>\n",
       "      <th id=\"T_ad205_level0_col1\" class=\"col_heading level0 col1\" >1</th>\n",
       "      <th id=\"T_ad205_level0_col2\" class=\"col_heading level0 col2\" >2</th>\n",
       "      <th id=\"T_ad205_level0_col3\" class=\"col_heading level0 col3\" >3</th>\n",
       "      <th id=\"T_ad205_level0_col4\" class=\"col_heading level0 col4\" >4</th>\n",
       "      <th id=\"T_ad205_level0_col5\" class=\"col_heading level0 col5\" >5</th>\n",
       "      <th id=\"T_ad205_level0_col6\" class=\"col_heading level0 col6\" >6</th>\n",
       "      <th id=\"T_ad205_level0_col7\" class=\"col_heading level0 col7\" >7</th>\n",
       "      <th id=\"T_ad205_level0_col8\" class=\"col_heading level0 col8\" >8</th>\n",
       "      <th id=\"T_ad205_level0_col9\" class=\"col_heading level0 col9\" >9</th>\n",
       "    </tr>\n",
       "  </thead>\n",
       "  <tbody>\n",
       "    <tr>\n",
       "      <th id=\"T_ad205_level0_row0\" class=\"row_heading level0 row0\" ></th>\n",
       "      <td id=\"T_ad205_row0_col0\" class=\"data row0 col0\" >Lead Day 1</td>\n",
       "      <td id=\"T_ad205_row0_col1\" class=\"data row0 col1\" >Lead Day 2</td>\n",
       "      <td id=\"T_ad205_row0_col2\" class=\"data row0 col2\" >Lead Day 3</td>\n",
       "      <td id=\"T_ad205_row0_col3\" class=\"data row0 col3\" >Lead Day 4</td>\n",
       "      <td id=\"T_ad205_row0_col4\" class=\"data row0 col4\" >Lead Day 5</td>\n",
       "      <td id=\"T_ad205_row0_col5\" class=\"data row0 col5\" >Lead Day 6</td>\n",
       "      <td id=\"T_ad205_row0_col6\" class=\"data row0 col6\" >Lead Day 7</td>\n",
       "      <td id=\"T_ad205_row0_col7\" class=\"data row0 col7\" >Lead Day 8</td>\n",
       "      <td id=\"T_ad205_row0_col8\" class=\"data row0 col8\" >Lead Day 9</td>\n",
       "      <td id=\"T_ad205_row0_col9\" class=\"data row0 col9\" >Lead Day 10</td>\n",
       "    </tr>\n",
       "    <tr>\n",
       "      <th id=\"T_ad205_level0_row1\" class=\"row_heading level0 row1\" >Score</th>\n",
       "      <td id=\"T_ad205_row1_col0\" class=\"data row1 col0\" >0.113353</td>\n",
       "      <td id=\"T_ad205_row1_col1\" class=\"data row1 col1\" >0.110170</td>\n",
       "      <td id=\"T_ad205_row1_col2\" class=\"data row1 col2\" >0.109454</td>\n",
       "      <td id=\"T_ad205_row1_col3\" class=\"data row1 col3\" >0.108042</td>\n",
       "      <td id=\"T_ad205_row1_col4\" class=\"data row1 col4\" >0.108614</td>\n",
       "      <td id=\"T_ad205_row1_col5\" class=\"data row1 col5\" >0.107856</td>\n",
       "      <td id=\"T_ad205_row1_col6\" class=\"data row1 col6\" >0.106257</td>\n",
       "      <td id=\"T_ad205_row1_col7\" class=\"data row1 col7\" >0.107948</td>\n",
       "      <td id=\"T_ad205_row1_col8\" class=\"data row1 col8\" >0.107280</td>\n",
       "      <td id=\"T_ad205_row1_col9\" class=\"data row1 col9\" >0.106504</td>\n",
       "    </tr>\n",
       "  </tbody>\n",
       "</table>\n"
      ],
      "text/plain": [
       "<pandas.io.formats.style.Styler at 0x7fe33ef98f50>"
      ]
     },
     "execution_count": 6,
     "metadata": {},
     "output_type": "execute_result"
    }
   ],
   "source": [
    "\n",
    "\n",
    "display(HTML('<h1 style=\"color:red; text-align:center;\">50m uo Score</h1>'))\n",
    "df = pd.DataFrame([[\"Lead Day \" + str(i+1) for i in range(10)], uo[9,:]])\n",
    "df.index = [\"\", \"Score\"]\n",
    "df.style.set_properties(**{\"border\": \"1px solid black\", \"text-align\": \"center\"})"
   ]
  },
  {
   "cell_type": "code",
   "execution_count": 7,
   "id": "1cb1b609-41e6-423c-9601-ff90fc38dc35",
   "metadata": {},
   "outputs": [
    {
     "data": {
      "text/html": [
       "<h1 style=\"color:red; text-align:center;\">Surface vo Score</h1>"
      ],
      "text/plain": [
       "<IPython.core.display.HTML object>"
      ]
     },
     "metadata": {},
     "output_type": "display_data"
    },
    {
     "data": {
      "text/html": [
       "<style type=\"text/css\">\n",
       "#T_c2082_row0_col0, #T_c2082_row0_col1, #T_c2082_row0_col2, #T_c2082_row0_col3, #T_c2082_row0_col4, #T_c2082_row0_col5, #T_c2082_row0_col6, #T_c2082_row0_col7, #T_c2082_row0_col8, #T_c2082_row0_col9, #T_c2082_row1_col0, #T_c2082_row1_col1, #T_c2082_row1_col2, #T_c2082_row1_col3, #T_c2082_row1_col4, #T_c2082_row1_col5, #T_c2082_row1_col6, #T_c2082_row1_col7, #T_c2082_row1_col8, #T_c2082_row1_col9 {\n",
       "  border: 1px solid black;\n",
       "  text-align: center;\n",
       "}\n",
       "</style>\n",
       "<table id=\"T_c2082\">\n",
       "  <thead>\n",
       "    <tr>\n",
       "      <th class=\"blank level0\" >&nbsp;</th>\n",
       "      <th id=\"T_c2082_level0_col0\" class=\"col_heading level0 col0\" >0</th>\n",
       "      <th id=\"T_c2082_level0_col1\" class=\"col_heading level0 col1\" >1</th>\n",
       "      <th id=\"T_c2082_level0_col2\" class=\"col_heading level0 col2\" >2</th>\n",
       "      <th id=\"T_c2082_level0_col3\" class=\"col_heading level0 col3\" >3</th>\n",
       "      <th id=\"T_c2082_level0_col4\" class=\"col_heading level0 col4\" >4</th>\n",
       "      <th id=\"T_c2082_level0_col5\" class=\"col_heading level0 col5\" >5</th>\n",
       "      <th id=\"T_c2082_level0_col6\" class=\"col_heading level0 col6\" >6</th>\n",
       "      <th id=\"T_c2082_level0_col7\" class=\"col_heading level0 col7\" >7</th>\n",
       "      <th id=\"T_c2082_level0_col8\" class=\"col_heading level0 col8\" >8</th>\n",
       "      <th id=\"T_c2082_level0_col9\" class=\"col_heading level0 col9\" >9</th>\n",
       "    </tr>\n",
       "  </thead>\n",
       "  <tbody>\n",
       "    <tr>\n",
       "      <th id=\"T_c2082_level0_row0\" class=\"row_heading level0 row0\" ></th>\n",
       "      <td id=\"T_c2082_row0_col0\" class=\"data row0 col0\" >Lead Day 1</td>\n",
       "      <td id=\"T_c2082_row0_col1\" class=\"data row0 col1\" >Lead Day 2</td>\n",
       "      <td id=\"T_c2082_row0_col2\" class=\"data row0 col2\" >Lead Day 3</td>\n",
       "      <td id=\"T_c2082_row0_col3\" class=\"data row0 col3\" >Lead Day 4</td>\n",
       "      <td id=\"T_c2082_row0_col4\" class=\"data row0 col4\" >Lead Day 5</td>\n",
       "      <td id=\"T_c2082_row0_col5\" class=\"data row0 col5\" >Lead Day 6</td>\n",
       "      <td id=\"T_c2082_row0_col6\" class=\"data row0 col6\" >Lead Day 7</td>\n",
       "      <td id=\"T_c2082_row0_col7\" class=\"data row0 col7\" >Lead Day 8</td>\n",
       "      <td id=\"T_c2082_row0_col8\" class=\"data row0 col8\" >Lead Day 9</td>\n",
       "      <td id=\"T_c2082_row0_col9\" class=\"data row0 col9\" >Lead Day 10</td>\n",
       "    </tr>\n",
       "    <tr>\n",
       "      <th id=\"T_c2082_level0_row1\" class=\"row_heading level0 row1\" >Score</th>\n",
       "      <td id=\"T_c2082_row1_col0\" class=\"data row1 col0\" >0.122258</td>\n",
       "      <td id=\"T_c2082_row1_col1\" class=\"data row1 col1\" >0.120584</td>\n",
       "      <td id=\"T_c2082_row1_col2\" class=\"data row1 col2\" >0.120452</td>\n",
       "      <td id=\"T_c2082_row1_col3\" class=\"data row1 col3\" >0.119975</td>\n",
       "      <td id=\"T_c2082_row1_col4\" class=\"data row1 col4\" >0.120690</td>\n",
       "      <td id=\"T_c2082_row1_col5\" class=\"data row1 col5\" >0.120648</td>\n",
       "      <td id=\"T_c2082_row1_col6\" class=\"data row1 col6\" >0.119357</td>\n",
       "      <td id=\"T_c2082_row1_col7\" class=\"data row1 col7\" >0.121389</td>\n",
       "      <td id=\"T_c2082_row1_col8\" class=\"data row1 col8\" >0.120524</td>\n",
       "      <td id=\"T_c2082_row1_col9\" class=\"data row1 col9\" >0.121266</td>\n",
       "    </tr>\n",
       "  </tbody>\n",
       "</table>\n"
      ],
      "text/plain": [
       "<pandas.io.formats.style.Styler at 0x7fe33ee0e810>"
      ]
     },
     "execution_count": 7,
     "metadata": {},
     "output_type": "execute_result"
    }
   ],
   "source": [
    "display(HTML('<h1 style=\"color:red; text-align:center;\">Surface vo Score</h1>'))\n",
    "df = pd.DataFrame([[\"Lead Day \" + str(i+1) for i in range(10)], vo[0,:]])\n",
    "df.index = [\"\", \"Score\"]\n",
    "df.style.set_properties(**{\"border\": \"1px solid black\", \"text-align\": \"center\"})"
   ]
  },
  {
   "cell_type": "code",
   "execution_count": 8,
   "id": "f3d52c9b-01cd-43e4-88f6-53dbd25eb886",
   "metadata": {},
   "outputs": [
    {
     "data": {
      "text/html": [
       "<h1 style=\"color:red; text-align:center;\">50m vo Score</h1>"
      ],
      "text/plain": [
       "<IPython.core.display.HTML object>"
      ]
     },
     "metadata": {},
     "output_type": "display_data"
    },
    {
     "data": {
      "text/html": [
       "<style type=\"text/css\">\n",
       "#T_6577c_row0_col0, #T_6577c_row0_col1, #T_6577c_row0_col2, #T_6577c_row0_col3, #T_6577c_row0_col4, #T_6577c_row0_col5, #T_6577c_row0_col6, #T_6577c_row0_col7, #T_6577c_row0_col8, #T_6577c_row0_col9, #T_6577c_row1_col0, #T_6577c_row1_col1, #T_6577c_row1_col2, #T_6577c_row1_col3, #T_6577c_row1_col4, #T_6577c_row1_col5, #T_6577c_row1_col6, #T_6577c_row1_col7, #T_6577c_row1_col8, #T_6577c_row1_col9 {\n",
       "  border: 1px solid black;\n",
       "  text-align: center;\n",
       "}\n",
       "</style>\n",
       "<table id=\"T_6577c\">\n",
       "  <thead>\n",
       "    <tr>\n",
       "      <th class=\"blank level0\" >&nbsp;</th>\n",
       "      <th id=\"T_6577c_level0_col0\" class=\"col_heading level0 col0\" >0</th>\n",
       "      <th id=\"T_6577c_level0_col1\" class=\"col_heading level0 col1\" >1</th>\n",
       "      <th id=\"T_6577c_level0_col2\" class=\"col_heading level0 col2\" >2</th>\n",
       "      <th id=\"T_6577c_level0_col3\" class=\"col_heading level0 col3\" >3</th>\n",
       "      <th id=\"T_6577c_level0_col4\" class=\"col_heading level0 col4\" >4</th>\n",
       "      <th id=\"T_6577c_level0_col5\" class=\"col_heading level0 col5\" >5</th>\n",
       "      <th id=\"T_6577c_level0_col6\" class=\"col_heading level0 col6\" >6</th>\n",
       "      <th id=\"T_6577c_level0_col7\" class=\"col_heading level0 col7\" >7</th>\n",
       "      <th id=\"T_6577c_level0_col8\" class=\"col_heading level0 col8\" >8</th>\n",
       "      <th id=\"T_6577c_level0_col9\" class=\"col_heading level0 col9\" >9</th>\n",
       "    </tr>\n",
       "  </thead>\n",
       "  <tbody>\n",
       "    <tr>\n",
       "      <th id=\"T_6577c_level0_row0\" class=\"row_heading level0 row0\" ></th>\n",
       "      <td id=\"T_6577c_row0_col0\" class=\"data row0 col0\" >Lead Day 1</td>\n",
       "      <td id=\"T_6577c_row0_col1\" class=\"data row0 col1\" >Lead Day 2</td>\n",
       "      <td id=\"T_6577c_row0_col2\" class=\"data row0 col2\" >Lead Day 3</td>\n",
       "      <td id=\"T_6577c_row0_col3\" class=\"data row0 col3\" >Lead Day 4</td>\n",
       "      <td id=\"T_6577c_row0_col4\" class=\"data row0 col4\" >Lead Day 5</td>\n",
       "      <td id=\"T_6577c_row0_col5\" class=\"data row0 col5\" >Lead Day 6</td>\n",
       "      <td id=\"T_6577c_row0_col6\" class=\"data row0 col6\" >Lead Day 7</td>\n",
       "      <td id=\"T_6577c_row0_col7\" class=\"data row0 col7\" >Lead Day 8</td>\n",
       "      <td id=\"T_6577c_row0_col8\" class=\"data row0 col8\" >Lead Day 9</td>\n",
       "      <td id=\"T_6577c_row0_col9\" class=\"data row0 col9\" >Lead Day 10</td>\n",
       "    </tr>\n",
       "    <tr>\n",
       "      <th id=\"T_6577c_level0_row1\" class=\"row_heading level0 row1\" >Score</th>\n",
       "      <td id=\"T_6577c_row1_col0\" class=\"data row1 col0\" >0.113353</td>\n",
       "      <td id=\"T_6577c_row1_col1\" class=\"data row1 col1\" >0.110170</td>\n",
       "      <td id=\"T_6577c_row1_col2\" class=\"data row1 col2\" >0.109454</td>\n",
       "      <td id=\"T_6577c_row1_col3\" class=\"data row1 col3\" >0.108042</td>\n",
       "      <td id=\"T_6577c_row1_col4\" class=\"data row1 col4\" >0.108614</td>\n",
       "      <td id=\"T_6577c_row1_col5\" class=\"data row1 col5\" >0.107856</td>\n",
       "      <td id=\"T_6577c_row1_col6\" class=\"data row1 col6\" >0.106257</td>\n",
       "      <td id=\"T_6577c_row1_col7\" class=\"data row1 col7\" >0.107948</td>\n",
       "      <td id=\"T_6577c_row1_col8\" class=\"data row1 col8\" >0.107280</td>\n",
       "      <td id=\"T_6577c_row1_col9\" class=\"data row1 col9\" >0.106504</td>\n",
       "    </tr>\n",
       "  </tbody>\n",
       "</table>\n"
      ],
      "text/plain": [
       "<pandas.io.formats.style.Styler at 0x7fe33ef9e290>"
      ]
     },
     "execution_count": 8,
     "metadata": {},
     "output_type": "execute_result"
    }
   ],
   "source": [
    "\n",
    "\n",
    "display(HTML('<h1 style=\"color:red; text-align:center;\">50m vo Score</h1>'))\n",
    "df = pd.DataFrame([[\"Lead Day \" + str(i+1) for i in range(10)], uo[9,:]])\n",
    "df.index = [\"\", \"Score\"]\n",
    "df.style.set_properties(**{\"border\": \"1px solid black\", \"text-align\": \"center\"})"
   ]
  },
  {
   "cell_type": "code",
   "execution_count": 9,
   "id": "2705ac27-eac6-44df-a6f0-adfb7f8d738d",
   "metadata": {},
   "outputs": [
    {
     "data": {
      "text/html": [
       "<h1 style=\"color:red; text-align:center;\">Surface thetao Score</h1>"
      ],
      "text/plain": [
       "<IPython.core.display.HTML object>"
      ]
     },
     "metadata": {},
     "output_type": "display_data"
    },
    {
     "data": {
      "text/html": [
       "<style type=\"text/css\">\n",
       "#T_6d283_row0_col0, #T_6d283_row0_col1, #T_6d283_row0_col2, #T_6d283_row0_col3, #T_6d283_row0_col4, #T_6d283_row0_col5, #T_6d283_row0_col6, #T_6d283_row0_col7, #T_6d283_row0_col8, #T_6d283_row0_col9, #T_6d283_row1_col0, #T_6d283_row1_col1, #T_6d283_row1_col2, #T_6d283_row1_col3, #T_6d283_row1_col4, #T_6d283_row1_col5, #T_6d283_row1_col6, #T_6d283_row1_col7, #T_6d283_row1_col8, #T_6d283_row1_col9 {\n",
       "  border: 1px solid black;\n",
       "  text-align: center;\n",
       "}\n",
       "</style>\n",
       "<table id=\"T_6d283\">\n",
       "  <thead>\n",
       "    <tr>\n",
       "      <th class=\"blank level0\" >&nbsp;</th>\n",
       "      <th id=\"T_6d283_level0_col0\" class=\"col_heading level0 col0\" >0</th>\n",
       "      <th id=\"T_6d283_level0_col1\" class=\"col_heading level0 col1\" >1</th>\n",
       "      <th id=\"T_6d283_level0_col2\" class=\"col_heading level0 col2\" >2</th>\n",
       "      <th id=\"T_6d283_level0_col3\" class=\"col_heading level0 col3\" >3</th>\n",
       "      <th id=\"T_6d283_level0_col4\" class=\"col_heading level0 col4\" >4</th>\n",
       "      <th id=\"T_6d283_level0_col5\" class=\"col_heading level0 col5\" >5</th>\n",
       "      <th id=\"T_6d283_level0_col6\" class=\"col_heading level0 col6\" >6</th>\n",
       "      <th id=\"T_6d283_level0_col7\" class=\"col_heading level0 col7\" >7</th>\n",
       "      <th id=\"T_6d283_level0_col8\" class=\"col_heading level0 col8\" >8</th>\n",
       "      <th id=\"T_6d283_level0_col9\" class=\"col_heading level0 col9\" >9</th>\n",
       "    </tr>\n",
       "  </thead>\n",
       "  <tbody>\n",
       "    <tr>\n",
       "      <th id=\"T_6d283_level0_row0\" class=\"row_heading level0 row0\" ></th>\n",
       "      <td id=\"T_6d283_row0_col0\" class=\"data row0 col0\" >Lead Day 1</td>\n",
       "      <td id=\"T_6d283_row0_col1\" class=\"data row0 col1\" >Lead Day 2</td>\n",
       "      <td id=\"T_6d283_row0_col2\" class=\"data row0 col2\" >Lead Day 3</td>\n",
       "      <td id=\"T_6d283_row0_col3\" class=\"data row0 col3\" >Lead Day 4</td>\n",
       "      <td id=\"T_6d283_row0_col4\" class=\"data row0 col4\" >Lead Day 5</td>\n",
       "      <td id=\"T_6d283_row0_col5\" class=\"data row0 col5\" >Lead Day 6</td>\n",
       "      <td id=\"T_6d283_row0_col6\" class=\"data row0 col6\" >Lead Day 7</td>\n",
       "      <td id=\"T_6d283_row0_col7\" class=\"data row0 col7\" >Lead Day 8</td>\n",
       "      <td id=\"T_6d283_row0_col8\" class=\"data row0 col8\" >Lead Day 9</td>\n",
       "      <td id=\"T_6d283_row0_col9\" class=\"data row0 col9\" >Lead Day 10</td>\n",
       "    </tr>\n",
       "    <tr>\n",
       "      <th id=\"T_6d283_level0_row1\" class=\"row_heading level0 row1\" >Score</th>\n",
       "      <td id=\"T_6d283_row1_col0\" class=\"data row1 col0\" >0.750129</td>\n",
       "      <td id=\"T_6d283_row1_col1\" class=\"data row1 col1\" >0.704030</td>\n",
       "      <td id=\"T_6d283_row1_col2\" class=\"data row1 col2\" >0.712400</td>\n",
       "      <td id=\"T_6d283_row1_col3\" class=\"data row1 col3\" >0.754620</td>\n",
       "      <td id=\"T_6d283_row1_col4\" class=\"data row1 col4\" >0.734946</td>\n",
       "      <td id=\"T_6d283_row1_col5\" class=\"data row1 col5\" >0.764045</td>\n",
       "      <td id=\"T_6d283_row1_col6\" class=\"data row1 col6\" >0.738816</td>\n",
       "      <td id=\"T_6d283_row1_col7\" class=\"data row1 col7\" >0.792204</td>\n",
       "      <td id=\"T_6d283_row1_col8\" class=\"data row1 col8\" >0.839555</td>\n",
       "      <td id=\"T_6d283_row1_col9\" class=\"data row1 col9\" >0.831889</td>\n",
       "    </tr>\n",
       "  </tbody>\n",
       "</table>\n"
      ],
      "text/plain": [
       "<pandas.io.formats.style.Styler at 0x7fe33eaf3990>"
      ]
     },
     "execution_count": 9,
     "metadata": {},
     "output_type": "execute_result"
    }
   ],
   "source": [
    "display(HTML('<h1 style=\"color:red; text-align:center;\">Surface thetao Score</h1>'))\n",
    "df = pd.DataFrame([[\"Lead Day \" + str(i+1) for i in range(10)], thetao[0,:]])\n",
    "df.index = [\"\", \"Score\"]\n",
    "df.style.set_properties(**{\"border\": \"1px solid black\", \"text-align\": \"center\"})"
   ]
  },
  {
   "cell_type": "code",
   "execution_count": 10,
   "id": "7444ff62-2877-4a40-9c14-e33f6c144ad6",
   "metadata": {},
   "outputs": [
    {
     "data": {
      "text/html": [
       "<h1 style=\"color:red; text-align:center;\">50m thetao Score</h1>"
      ],
      "text/plain": [
       "<IPython.core.display.HTML object>"
      ]
     },
     "metadata": {},
     "output_type": "display_data"
    },
    {
     "data": {
      "text/html": [
       "<style type=\"text/css\">\n",
       "#T_bcca2_row0_col0, #T_bcca2_row0_col1, #T_bcca2_row0_col2, #T_bcca2_row0_col3, #T_bcca2_row0_col4, #T_bcca2_row0_col5, #T_bcca2_row0_col6, #T_bcca2_row0_col7, #T_bcca2_row0_col8, #T_bcca2_row0_col9, #T_bcca2_row1_col0, #T_bcca2_row1_col1, #T_bcca2_row1_col2, #T_bcca2_row1_col3, #T_bcca2_row1_col4, #T_bcca2_row1_col5, #T_bcca2_row1_col6, #T_bcca2_row1_col7, #T_bcca2_row1_col8, #T_bcca2_row1_col9 {\n",
       "  border: 1px solid black;\n",
       "  text-align: center;\n",
       "}\n",
       "</style>\n",
       "<table id=\"T_bcca2\">\n",
       "  <thead>\n",
       "    <tr>\n",
       "      <th class=\"blank level0\" >&nbsp;</th>\n",
       "      <th id=\"T_bcca2_level0_col0\" class=\"col_heading level0 col0\" >0</th>\n",
       "      <th id=\"T_bcca2_level0_col1\" class=\"col_heading level0 col1\" >1</th>\n",
       "      <th id=\"T_bcca2_level0_col2\" class=\"col_heading level0 col2\" >2</th>\n",
       "      <th id=\"T_bcca2_level0_col3\" class=\"col_heading level0 col3\" >3</th>\n",
       "      <th id=\"T_bcca2_level0_col4\" class=\"col_heading level0 col4\" >4</th>\n",
       "      <th id=\"T_bcca2_level0_col5\" class=\"col_heading level0 col5\" >5</th>\n",
       "      <th id=\"T_bcca2_level0_col6\" class=\"col_heading level0 col6\" >6</th>\n",
       "      <th id=\"T_bcca2_level0_col7\" class=\"col_heading level0 col7\" >7</th>\n",
       "      <th id=\"T_bcca2_level0_col8\" class=\"col_heading level0 col8\" >8</th>\n",
       "      <th id=\"T_bcca2_level0_col9\" class=\"col_heading level0 col9\" >9</th>\n",
       "    </tr>\n",
       "  </thead>\n",
       "  <tbody>\n",
       "    <tr>\n",
       "      <th id=\"T_bcca2_level0_row0\" class=\"row_heading level0 row0\" ></th>\n",
       "      <td id=\"T_bcca2_row0_col0\" class=\"data row0 col0\" >Lead Day 1</td>\n",
       "      <td id=\"T_bcca2_row0_col1\" class=\"data row0 col1\" >Lead Day 2</td>\n",
       "      <td id=\"T_bcca2_row0_col2\" class=\"data row0 col2\" >Lead Day 3</td>\n",
       "      <td id=\"T_bcca2_row0_col3\" class=\"data row0 col3\" >Lead Day 4</td>\n",
       "      <td id=\"T_bcca2_row0_col4\" class=\"data row0 col4\" >Lead Day 5</td>\n",
       "      <td id=\"T_bcca2_row0_col5\" class=\"data row0 col5\" >Lead Day 6</td>\n",
       "      <td id=\"T_bcca2_row0_col6\" class=\"data row0 col6\" >Lead Day 7</td>\n",
       "      <td id=\"T_bcca2_row0_col7\" class=\"data row0 col7\" >Lead Day 8</td>\n",
       "      <td id=\"T_bcca2_row0_col8\" class=\"data row0 col8\" >Lead Day 9</td>\n",
       "      <td id=\"T_bcca2_row0_col9\" class=\"data row0 col9\" >Lead Day 10</td>\n",
       "    </tr>\n",
       "    <tr>\n",
       "      <th id=\"T_bcca2_level0_row1\" class=\"row_heading level0 row1\" >Score</th>\n",
       "      <td id=\"T_bcca2_row1_col0\" class=\"data row1 col0\" >0.948237</td>\n",
       "      <td id=\"T_bcca2_row1_col1\" class=\"data row1 col1\" >0.933667</td>\n",
       "      <td id=\"T_bcca2_row1_col2\" class=\"data row1 col2\" >0.940200</td>\n",
       "      <td id=\"T_bcca2_row1_col3\" class=\"data row1 col3\" >0.975554</td>\n",
       "      <td id=\"T_bcca2_row1_col4\" class=\"data row1 col4\" >0.980706</td>\n",
       "      <td id=\"T_bcca2_row1_col5\" class=\"data row1 col5\" >1.046655</td>\n",
       "      <td id=\"T_bcca2_row1_col6\" class=\"data row1 col6\" >0.938282</td>\n",
       "      <td id=\"T_bcca2_row1_col7\" class=\"data row1 col7\" >1.011449</td>\n",
       "      <td id=\"T_bcca2_row1_col8\" class=\"data row1 col8\" >1.024989</td>\n",
       "      <td id=\"T_bcca2_row1_col9\" class=\"data row1 col9\" >1.091752</td>\n",
       "    </tr>\n",
       "  </tbody>\n",
       "</table>\n"
      ],
      "text/plain": [
       "<pandas.io.formats.style.Styler at 0x7fe33eed2fd0>"
      ]
     },
     "execution_count": 10,
     "metadata": {},
     "output_type": "execute_result"
    }
   ],
   "source": [
    "\n",
    "\n",
    "display(HTML('<h1 style=\"color:red; text-align:center;\">50m thetao Score</h1>'))\n",
    "df = pd.DataFrame([[\"Lead Day \" + str(i+1) for i in range(10)], thetao[9,:]])\n",
    "df.index = [\"\", \"Score\"]\n",
    "df.style.set_properties(**{\"border\": \"1px solid black\", \"text-align\": \"center\"})"
   ]
  },
  {
   "cell_type": "code",
   "execution_count": 11,
   "id": "931295b0-f560-4e65-a0f7-fbe0db265f82",
   "metadata": {},
   "outputs": [
    {
     "data": {
      "text/html": [
       "<h1 style=\"color:red; text-align:center;\">Surface so Score</h1>"
      ],
      "text/plain": [
       "<IPython.core.display.HTML object>"
      ]
     },
     "metadata": {},
     "output_type": "display_data"
    },
    {
     "data": {
      "text/html": [
       "<style type=\"text/css\">\n",
       "#T_53643_row0_col0, #T_53643_row0_col1, #T_53643_row0_col2, #T_53643_row0_col3, #T_53643_row0_col4, #T_53643_row0_col5, #T_53643_row0_col6, #T_53643_row0_col7, #T_53643_row0_col8, #T_53643_row0_col9, #T_53643_row1_col0, #T_53643_row1_col1, #T_53643_row1_col2, #T_53643_row1_col3, #T_53643_row1_col4, #T_53643_row1_col5, #T_53643_row1_col6, #T_53643_row1_col7, #T_53643_row1_col8, #T_53643_row1_col9 {\n",
       "  border: 1px solid black;\n",
       "  text-align: center;\n",
       "}\n",
       "</style>\n",
       "<table id=\"T_53643\">\n",
       "  <thead>\n",
       "    <tr>\n",
       "      <th class=\"blank level0\" >&nbsp;</th>\n",
       "      <th id=\"T_53643_level0_col0\" class=\"col_heading level0 col0\" >0</th>\n",
       "      <th id=\"T_53643_level0_col1\" class=\"col_heading level0 col1\" >1</th>\n",
       "      <th id=\"T_53643_level0_col2\" class=\"col_heading level0 col2\" >2</th>\n",
       "      <th id=\"T_53643_level0_col3\" class=\"col_heading level0 col3\" >3</th>\n",
       "      <th id=\"T_53643_level0_col4\" class=\"col_heading level0 col4\" >4</th>\n",
       "      <th id=\"T_53643_level0_col5\" class=\"col_heading level0 col5\" >5</th>\n",
       "      <th id=\"T_53643_level0_col6\" class=\"col_heading level0 col6\" >6</th>\n",
       "      <th id=\"T_53643_level0_col7\" class=\"col_heading level0 col7\" >7</th>\n",
       "      <th id=\"T_53643_level0_col8\" class=\"col_heading level0 col8\" >8</th>\n",
       "      <th id=\"T_53643_level0_col9\" class=\"col_heading level0 col9\" >9</th>\n",
       "    </tr>\n",
       "  </thead>\n",
       "  <tbody>\n",
       "    <tr>\n",
       "      <th id=\"T_53643_level0_row0\" class=\"row_heading level0 row0\" ></th>\n",
       "      <td id=\"T_53643_row0_col0\" class=\"data row0 col0\" >Lead Day 1</td>\n",
       "      <td id=\"T_53643_row0_col1\" class=\"data row0 col1\" >Lead Day 2</td>\n",
       "      <td id=\"T_53643_row0_col2\" class=\"data row0 col2\" >Lead Day 3</td>\n",
       "      <td id=\"T_53643_row0_col3\" class=\"data row0 col3\" >Lead Day 4</td>\n",
       "      <td id=\"T_53643_row0_col4\" class=\"data row0 col4\" >Lead Day 5</td>\n",
       "      <td id=\"T_53643_row0_col5\" class=\"data row0 col5\" >Lead Day 6</td>\n",
       "      <td id=\"T_53643_row0_col6\" class=\"data row0 col6\" >Lead Day 7</td>\n",
       "      <td id=\"T_53643_row0_col7\" class=\"data row0 col7\" >Lead Day 8</td>\n",
       "      <td id=\"T_53643_row0_col8\" class=\"data row0 col8\" >Lead Day 9</td>\n",
       "      <td id=\"T_53643_row0_col9\" class=\"data row0 col9\" >Lead Day 10</td>\n",
       "    </tr>\n",
       "    <tr>\n",
       "      <th id=\"T_53643_level0_row1\" class=\"row_heading level0 row1\" >Score</th>\n",
       "      <td id=\"T_53643_row1_col0\" class=\"data row1 col0\" >0.724029</td>\n",
       "      <td id=\"T_53643_row1_col1\" class=\"data row1 col1\" >0.726620</td>\n",
       "      <td id=\"T_53643_row1_col2\" class=\"data row1 col2\" >0.752761</td>\n",
       "      <td id=\"T_53643_row1_col3\" class=\"data row1 col3\" >0.747579</td>\n",
       "      <td id=\"T_53643_row1_col4\" class=\"data row1 col4\" >0.738520</td>\n",
       "      <td id=\"T_53643_row1_col5\" class=\"data row1 col5\" >0.716550</td>\n",
       "      <td id=\"T_53643_row1_col6\" class=\"data row1 col6\" >0.707049</td>\n",
       "      <td id=\"T_53643_row1_col7\" class=\"data row1 col7\" >0.713106</td>\n",
       "      <td id=\"T_53643_row1_col8\" class=\"data row1 col8\" >0.717489</td>\n",
       "      <td id=\"T_53643_row1_col9\" class=\"data row1 col9\" >0.697855</td>\n",
       "    </tr>\n",
       "  </tbody>\n",
       "</table>\n"
      ],
      "text/plain": [
       "<pandas.io.formats.style.Styler at 0x7fe3add658d0>"
      ]
     },
     "execution_count": 11,
     "metadata": {},
     "output_type": "execute_result"
    }
   ],
   "source": [
    "display(HTML('<h1 style=\"color:red; text-align:center;\">Surface so Score</h1>'))\n",
    "df = pd.DataFrame([[\"Lead Day \" + str(i+1) for i in range(10)], so[0,:]])\n",
    "df.index = [\"\", \"Score\"]\n",
    "df.style.set_properties(**{\"border\": \"1px solid black\", \"text-align\": \"center\"})"
   ]
  },
  {
   "cell_type": "code",
   "execution_count": 12,
   "id": "bf6e4b67-df06-4eb9-a8ea-b7da0d88091b",
   "metadata": {
    "scrolled": true
   },
   "outputs": [
    {
     "data": {
      "text/html": [
       "<h1 style=\"color:red; text-align:center;\">50m so Score</h1>"
      ],
      "text/plain": [
       "<IPython.core.display.HTML object>"
      ]
     },
     "metadata": {},
     "output_type": "display_data"
    },
    {
     "data": {
      "text/html": [
       "<style type=\"text/css\">\n",
       "#T_20e8a_row0_col0, #T_20e8a_row0_col1, #T_20e8a_row0_col2, #T_20e8a_row0_col3, #T_20e8a_row0_col4, #T_20e8a_row0_col5, #T_20e8a_row0_col6, #T_20e8a_row0_col7, #T_20e8a_row0_col8, #T_20e8a_row0_col9, #T_20e8a_row1_col0, #T_20e8a_row1_col1, #T_20e8a_row1_col2, #T_20e8a_row1_col3, #T_20e8a_row1_col4, #T_20e8a_row1_col5, #T_20e8a_row1_col6, #T_20e8a_row1_col7, #T_20e8a_row1_col8, #T_20e8a_row1_col9 {\n",
       "  border: 1px solid black;\n",
       "  text-align: center;\n",
       "}\n",
       "</style>\n",
       "<table id=\"T_20e8a\">\n",
       "  <thead>\n",
       "    <tr>\n",
       "      <th class=\"blank level0\" >&nbsp;</th>\n",
       "      <th id=\"T_20e8a_level0_col0\" class=\"col_heading level0 col0\" >0</th>\n",
       "      <th id=\"T_20e8a_level0_col1\" class=\"col_heading level0 col1\" >1</th>\n",
       "      <th id=\"T_20e8a_level0_col2\" class=\"col_heading level0 col2\" >2</th>\n",
       "      <th id=\"T_20e8a_level0_col3\" class=\"col_heading level0 col3\" >3</th>\n",
       "      <th id=\"T_20e8a_level0_col4\" class=\"col_heading level0 col4\" >4</th>\n",
       "      <th id=\"T_20e8a_level0_col5\" class=\"col_heading level0 col5\" >5</th>\n",
       "      <th id=\"T_20e8a_level0_col6\" class=\"col_heading level0 col6\" >6</th>\n",
       "      <th id=\"T_20e8a_level0_col7\" class=\"col_heading level0 col7\" >7</th>\n",
       "      <th id=\"T_20e8a_level0_col8\" class=\"col_heading level0 col8\" >8</th>\n",
       "      <th id=\"T_20e8a_level0_col9\" class=\"col_heading level0 col9\" >9</th>\n",
       "    </tr>\n",
       "  </thead>\n",
       "  <tbody>\n",
       "    <tr>\n",
       "      <th id=\"T_20e8a_level0_row0\" class=\"row_heading level0 row0\" ></th>\n",
       "      <td id=\"T_20e8a_row0_col0\" class=\"data row0 col0\" >Lead Day 1</td>\n",
       "      <td id=\"T_20e8a_row0_col1\" class=\"data row0 col1\" >Lead Day 2</td>\n",
       "      <td id=\"T_20e8a_row0_col2\" class=\"data row0 col2\" >Lead Day 3</td>\n",
       "      <td id=\"T_20e8a_row0_col3\" class=\"data row0 col3\" >Lead Day 4</td>\n",
       "      <td id=\"T_20e8a_row0_col4\" class=\"data row0 col4\" >Lead Day 5</td>\n",
       "      <td id=\"T_20e8a_row0_col5\" class=\"data row0 col5\" >Lead Day 6</td>\n",
       "      <td id=\"T_20e8a_row0_col6\" class=\"data row0 col6\" >Lead Day 7</td>\n",
       "      <td id=\"T_20e8a_row0_col7\" class=\"data row0 col7\" >Lead Day 8</td>\n",
       "      <td id=\"T_20e8a_row0_col8\" class=\"data row0 col8\" >Lead Day 9</td>\n",
       "      <td id=\"T_20e8a_row0_col9\" class=\"data row0 col9\" >Lead Day 10</td>\n",
       "    </tr>\n",
       "    <tr>\n",
       "      <th id=\"T_20e8a_level0_row1\" class=\"row_heading level0 row1\" >Score</th>\n",
       "      <td id=\"T_20e8a_row1_col0\" class=\"data row1 col0\" >0.297074</td>\n",
       "      <td id=\"T_20e8a_row1_col1\" class=\"data row1 col1\" >0.306275</td>\n",
       "      <td id=\"T_20e8a_row1_col2\" class=\"data row1 col2\" >0.306467</td>\n",
       "      <td id=\"T_20e8a_row1_col3\" class=\"data row1 col3\" >0.308242</td>\n",
       "      <td id=\"T_20e8a_row1_col4\" class=\"data row1 col4\" >0.305519</td>\n",
       "      <td id=\"T_20e8a_row1_col5\" class=\"data row1 col5\" >0.308443</td>\n",
       "      <td id=\"T_20e8a_row1_col6\" class=\"data row1 col6\" >0.305925</td>\n",
       "      <td id=\"T_20e8a_row1_col7\" class=\"data row1 col7\" >0.304790</td>\n",
       "      <td id=\"T_20e8a_row1_col8\" class=\"data row1 col8\" >0.312566</td>\n",
       "      <td id=\"T_20e8a_row1_col9\" class=\"data row1 col9\" >0.326502</td>\n",
       "    </tr>\n",
       "  </tbody>\n",
       "</table>\n"
      ],
      "text/plain": [
       "<pandas.io.formats.style.Styler at 0x7fe33ee88710>"
      ]
     },
     "execution_count": 12,
     "metadata": {},
     "output_type": "execute_result"
    }
   ],
   "source": [
    "\n",
    "\n",
    "display(HTML('<h1 style=\"color:red; text-align:center;\">50m so Score</h1>'))\n",
    "df = pd.DataFrame([[\"Lead Day \" + str(i+1) for i in range(10)], so[9,:]])\n",
    "df.index = [\"\", \"Score\"]\n",
    "df.style.set_properties(**{\"border\": \"1px solid black\", \"text-align\": \"center\"})"
   ]
  },
  {
   "cell_type": "code",
   "execution_count": 13,
   "id": "04b63b13-7f21-4392-b6dd-cda21d94bf21",
   "metadata": {},
   "outputs": [
    {
     "data": {
      "text/html": [
       "<h1 style=\"color:red; text-align:center;\"> zos Score</h1>"
      ],
      "text/plain": [
       "<IPython.core.display.HTML object>"
      ]
     },
     "metadata": {},
     "output_type": "display_data"
    },
    {
     "data": {
      "text/html": [
       "<style type=\"text/css\">\n",
       "#T_b7b87_row0_col0, #T_b7b87_row0_col1, #T_b7b87_row0_col2, #T_b7b87_row0_col3, #T_b7b87_row0_col4, #T_b7b87_row0_col5, #T_b7b87_row0_col6, #T_b7b87_row0_col7, #T_b7b87_row0_col8, #T_b7b87_row0_col9, #T_b7b87_row1_col0, #T_b7b87_row1_col1, #T_b7b87_row1_col2, #T_b7b87_row1_col3, #T_b7b87_row1_col4, #T_b7b87_row1_col5, #T_b7b87_row1_col6, #T_b7b87_row1_col7, #T_b7b87_row1_col8, #T_b7b87_row1_col9 {\n",
       "  border: 1px solid black;\n",
       "  text-align: center;\n",
       "}\n",
       "</style>\n",
       "<table id=\"T_b7b87\">\n",
       "  <thead>\n",
       "    <tr>\n",
       "      <th class=\"blank level0\" >&nbsp;</th>\n",
       "      <th id=\"T_b7b87_level0_col0\" class=\"col_heading level0 col0\" >0</th>\n",
       "      <th id=\"T_b7b87_level0_col1\" class=\"col_heading level0 col1\" >1</th>\n",
       "      <th id=\"T_b7b87_level0_col2\" class=\"col_heading level0 col2\" >2</th>\n",
       "      <th id=\"T_b7b87_level0_col3\" class=\"col_heading level0 col3\" >3</th>\n",
       "      <th id=\"T_b7b87_level0_col4\" class=\"col_heading level0 col4\" >4</th>\n",
       "      <th id=\"T_b7b87_level0_col5\" class=\"col_heading level0 col5\" >5</th>\n",
       "      <th id=\"T_b7b87_level0_col6\" class=\"col_heading level0 col6\" >6</th>\n",
       "      <th id=\"T_b7b87_level0_col7\" class=\"col_heading level0 col7\" >7</th>\n",
       "      <th id=\"T_b7b87_level0_col8\" class=\"col_heading level0 col8\" >8</th>\n",
       "      <th id=\"T_b7b87_level0_col9\" class=\"col_heading level0 col9\" >9</th>\n",
       "    </tr>\n",
       "  </thead>\n",
       "  <tbody>\n",
       "    <tr>\n",
       "      <th id=\"T_b7b87_level0_row0\" class=\"row_heading level0 row0\" ></th>\n",
       "      <td id=\"T_b7b87_row0_col0\" class=\"data row0 col0\" >Lead Day 1</td>\n",
       "      <td id=\"T_b7b87_row0_col1\" class=\"data row0 col1\" >Lead Day 2</td>\n",
       "      <td id=\"T_b7b87_row0_col2\" class=\"data row0 col2\" >Lead Day 3</td>\n",
       "      <td id=\"T_b7b87_row0_col3\" class=\"data row0 col3\" >Lead Day 4</td>\n",
       "      <td id=\"T_b7b87_row0_col4\" class=\"data row0 col4\" >Lead Day 5</td>\n",
       "      <td id=\"T_b7b87_row0_col5\" class=\"data row0 col5\" >Lead Day 6</td>\n",
       "      <td id=\"T_b7b87_row0_col6\" class=\"data row0 col6\" >Lead Day 7</td>\n",
       "      <td id=\"T_b7b87_row0_col7\" class=\"data row0 col7\" >Lead Day 8</td>\n",
       "      <td id=\"T_b7b87_row0_col8\" class=\"data row0 col8\" >Lead Day 9</td>\n",
       "      <td id=\"T_b7b87_row0_col9\" class=\"data row0 col9\" >Lead Day 10</td>\n",
       "    </tr>\n",
       "    <tr>\n",
       "      <th id=\"T_b7b87_level0_row1\" class=\"row_heading level0 row1\" >Score</th>\n",
       "      <td id=\"T_b7b87_row1_col0\" class=\"data row1 col0\" >0.077526</td>\n",
       "      <td id=\"T_b7b87_row1_col1\" class=\"data row1 col1\" >0.080072</td>\n",
       "      <td id=\"T_b7b87_row1_col2\" class=\"data row1 col2\" >0.080199</td>\n",
       "      <td id=\"T_b7b87_row1_col3\" class=\"data row1 col3\" >0.080466</td>\n",
       "      <td id=\"T_b7b87_row1_col4\" class=\"data row1 col4\" >0.081674</td>\n",
       "      <td id=\"T_b7b87_row1_col5\" class=\"data row1 col5\" >0.086342</td>\n",
       "      <td id=\"T_b7b87_row1_col6\" class=\"data row1 col6\" >0.084408</td>\n",
       "      <td id=\"T_b7b87_row1_col7\" class=\"data row1 col7\" >0.086351</td>\n",
       "      <td id=\"T_b7b87_row1_col8\" class=\"data row1 col8\" >0.088344</td>\n",
       "      <td id=\"T_b7b87_row1_col9\" class=\"data row1 col9\" >0.088599</td>\n",
       "    </tr>\n",
       "  </tbody>\n",
       "</table>\n"
      ],
      "text/plain": [
       "<pandas.io.formats.style.Styler at 0x7fe3add66510>"
      ]
     },
     "execution_count": 13,
     "metadata": {},
     "output_type": "execute_result"
    }
   ],
   "source": [
    "display(HTML('<h1 style=\"color:red; text-align:center;\"> zos Score</h1>'))\n",
    "df = pd.DataFrame([[\"Lead Day \" + str(i+1) for i in range(10)], zos[0,:]])\n",
    "df.index = [\"\", \"Score\"]\n",
    "df.style.set_properties(**{\"border\": \"1px solid black\", \"text-align\": \"center\"})"
   ]
  },
  {
   "cell_type": "markdown",
   "id": "138c30a2-a0e6-402d-899e-9a58d70ca733",
   "metadata": {},
   "source": [
    "### DERIVED QUANTITIES EVALUATION\n",
    "\n",
    "\n",
    "### HERE START PROCESS ORTIENTED EVAL:\n",
    "\n",
    "for this part we should call the functions from derived_quantities mainly mld and geostrophic_currents for glonet_dataset and glorys_dataset(see bellow), this will generate new dwtasets including MLD and g_currents. we should do this for the whole time series (e.g see above). Then redo the same thing we did for zos uo vo ..\n",
    "create new tables for MLD, u_geo and v_geo"
   ]
  },
  {
   "cell_type": "code",
   "execution_count": 13,
   "id": "1f5e684c-f766-4cda-94c7-f9dd400efaaf",
   "metadata": {
    "scrolled": true
   },
   "outputs": [],
   "source": [
    "## removed [lead ] from core.geo and core.mld also core geo_ add time dimension\n",
    "\n",
    "for i in range(len(gnetset)):\n",
    "    print(i)\n",
    "    gnetset[i] = oceanbench.derived_quantities.mld(\n",
    "        dataset=gnetset[i],\n",
    "        lead=1,#not used\n",
    "    )\n",
    "    gnetset[i] = oceanbench.derived_quantities.geostrophic_currents(\n",
    "        dataset=gnetset[i],\n",
    "        lead=1, ##not used\n",
    "        variable=\"zos\",\n",
    "    )\n",
    "    grysset[i] = oceanbench.derived_quantities.mld(\n",
    "        dataset=grysset[i],\n",
    "        lead=1,#not used\n",
    "    )\n",
    "    grysset[i] = oceanbench.derived_quantities.geostrophic_currents(\n",
    "        dataset=grysset[i],\n",
    "        lead=1, ##not used\n",
    "        variable=\"zos\",\n",
    "    )\n",
    "#gnet now has MLD, u_geo, and v_geo vars, we should call derived_quantities_eval = oceanbench.metrics.rmse(glonet_datasets=gnetset,glorys_datasets=grysset,), but this time we should explicitly tell the function we want MLD/u_geo/v_geo"
   ]
  },
  {
   "cell_type": "code",
   "execution_count": 14,
   "id": "0aa2a78c-8816-42ea-934a-0d6d07564b3c",
   "metadata": {},
   "outputs": [],
   "source": [
    "from typing import Any, List\n",
    "import xarray\n",
    "import numpy\n",
    "def get_rmse_glonet(forecast, ref, var, lead, level):\n",
    "    cpu_count = multiprocessing.cpu_count()\n",
    "    with multiprocessing.Pool(cpu_count) as _:\n",
    "        if var == \"MLD\" or var == \"v_geo\" or var == \"u_geo\" :\n",
    "            mask = (~numpy.isnan(ref[var].data[lead]) )& (~numpy.isnan(forecast[var].data[lead]))\n",
    "            rmse = numpy.sqrt(numpy.nanmean((forecast[var][lead].data[mask] - ref[var][ lead].data[mask]) ** 2))\n",
    "        else:\n",
    "            mask = ~numpy.isnan(forecast[var][lead, level].data) & ~numpy.isnan(ref[var][lead, level].data)\n",
    "            rmse = numpy.sqrt(\n",
    "                numpy.mean((forecast[var][lead, level].data[mask] - ref[var][lead, level].data[mask]) ** 2)\n",
    "            )\n",
    "    return rmse\n",
    "\n",
    "\n",
    "def get_glonet_rmse_for_given_days(\n",
    "    depthg,\n",
    "    var,\n",
    "    glonet_datasets: List[xarray.Dataset],\n",
    "    glorys_datasets: List[xarray.Dataset],\n",
    "):\n",
    "    j = 0\n",
    "    nweeks = 1\n",
    "    aa = numpy.zeros((nweeks, 10))\n",
    "\n",
    "    for glonet, glorys in zip(glonet_datasets, glorys_datasets):\n",
    "        for i in range(0, 10):\n",
    "            aa[j, i] = get_rmse_glonet(glonet, glorys, var, i, depthg)\n",
    "        j = j + 1\n",
    "        if j > nweeks - 1:\n",
    "            break\n",
    "    glonet_rmse = aa.mean(axis=0)\n",
    "    return glonet_rmse\n",
    "\n",
    "\n",
    "def glonet_pointwise_evaluation_core(\n",
    "    glonet_datasets: List[xarray.Dataset],\n",
    "    glorys_datasets: List[xarray.Dataset],\n",
    ") -> numpy.ndarray[Any]:\n",
    "    gnet = {\"u_geo\": [], \"v_geo\": [], \"MLD\": []}\n",
    "    variables_withouth_zos = [\"u_geo\", \"v_geo\", \"MLD\"]\n",
    "    for variable in variables_withouth_zos:\n",
    "        gnet[variable].append(\n",
    "                get_glonet_rmse_for_given_days(\n",
    "                    1,\n",
    "                    variable,\n",
    "                    glonet_datasets,\n",
    "                    glorys_datasets,\n",
    "                )\n",
    "            )\n",
    "    return numpy.array(gnet)"
   ]
  },
  {
   "cell_type": "code",
   "execution_count": null,
   "id": "beb57a69-bef5-499e-8761-c0bfe2eca587",
   "metadata": {
    "scrolled": true
   },
   "outputs": [],
   "source": [
    "for i in range(len(gnetset)):\n",
    "    gnetset[i]['u_geo'] = gnetset[i]['u_geo'].where((gnetset[i].lat < -0.5) | (gnetset[i].lat > 0.5), drop=False)\n",
    "    gnetset[i]['v_geo'] = gnetset[i]['v_geo'].where((gnetset[i].lat < -0.5) | (gnetset[i].lat > 0.5), drop=False)\n",
    "\n",
    "\n",
    "aa=glonet_pointwise_evaluation_core(\n",
    "    glonet_datasets=gnetset,\n",
    "    glorys_datasets=grysset,\n",
    ")"
   ]
  },
  {
   "cell_type": "code",
   "execution_count": null,
   "id": "fb650130-b619-48f5-95aa-271c96131f26",
   "metadata": {},
   "outputs": [],
   "source": [
    "u_geo=np.array(aa.item()['u_geo'])\n",
    "v_geo=np.array(aa.item()['v_geo'])\n",
    "mld=np.array(aa.item()['MLD'])\n"
   ]
  },
  {
   "cell_type": "code",
   "execution_count": 20,
   "id": "caa3fc8c-7156-4ba8-9480-0af5df282939",
   "metadata": {},
   "outputs": [
    {
     "data": {
      "text/html": [
       "<h1 style=\"color:red; text-align:center;\"> MLD Score</h1>"
      ],
      "text/plain": [
       "<IPython.core.display.HTML object>"
      ]
     },
     "metadata": {},
     "output_type": "display_data"
    },
    {
     "data": {
      "text/html": [
       "<style type=\"text/css\">\n",
       "#T_d2f02_row0_col0, #T_d2f02_row0_col1, #T_d2f02_row0_col2, #T_d2f02_row0_col3, #T_d2f02_row0_col4, #T_d2f02_row0_col5, #T_d2f02_row0_col6, #T_d2f02_row0_col7, #T_d2f02_row0_col8, #T_d2f02_row0_col9, #T_d2f02_row1_col0, #T_d2f02_row1_col1, #T_d2f02_row1_col2, #T_d2f02_row1_col3, #T_d2f02_row1_col4, #T_d2f02_row1_col5, #T_d2f02_row1_col6, #T_d2f02_row1_col7, #T_d2f02_row1_col8, #T_d2f02_row1_col9 {\n",
       "  border: 1px solid black;\n",
       "  text-align: center;\n",
       "}\n",
       "</style>\n",
       "<table id=\"T_d2f02\">\n",
       "  <thead>\n",
       "    <tr>\n",
       "      <th class=\"blank level0\" >&nbsp;</th>\n",
       "      <th id=\"T_d2f02_level0_col0\" class=\"col_heading level0 col0\" >0</th>\n",
       "      <th id=\"T_d2f02_level0_col1\" class=\"col_heading level0 col1\" >1</th>\n",
       "      <th id=\"T_d2f02_level0_col2\" class=\"col_heading level0 col2\" >2</th>\n",
       "      <th id=\"T_d2f02_level0_col3\" class=\"col_heading level0 col3\" >3</th>\n",
       "      <th id=\"T_d2f02_level0_col4\" class=\"col_heading level0 col4\" >4</th>\n",
       "      <th id=\"T_d2f02_level0_col5\" class=\"col_heading level0 col5\" >5</th>\n",
       "      <th id=\"T_d2f02_level0_col6\" class=\"col_heading level0 col6\" >6</th>\n",
       "      <th id=\"T_d2f02_level0_col7\" class=\"col_heading level0 col7\" >7</th>\n",
       "      <th id=\"T_d2f02_level0_col8\" class=\"col_heading level0 col8\" >8</th>\n",
       "      <th id=\"T_d2f02_level0_col9\" class=\"col_heading level0 col9\" >9</th>\n",
       "    </tr>\n",
       "  </thead>\n",
       "  <tbody>\n",
       "    <tr>\n",
       "      <th id=\"T_d2f02_level0_row0\" class=\"row_heading level0 row0\" ></th>\n",
       "      <td id=\"T_d2f02_row0_col0\" class=\"data row0 col0\" >Lead Day 1</td>\n",
       "      <td id=\"T_d2f02_row0_col1\" class=\"data row0 col1\" >Lead Day 2</td>\n",
       "      <td id=\"T_d2f02_row0_col2\" class=\"data row0 col2\" >Lead Day 3</td>\n",
       "      <td id=\"T_d2f02_row0_col3\" class=\"data row0 col3\" >Lead Day 4</td>\n",
       "      <td id=\"T_d2f02_row0_col4\" class=\"data row0 col4\" >Lead Day 5</td>\n",
       "      <td id=\"T_d2f02_row0_col5\" class=\"data row0 col5\" >Lead Day 6</td>\n",
       "      <td id=\"T_d2f02_row0_col6\" class=\"data row0 col6\" >Lead Day 7</td>\n",
       "      <td id=\"T_d2f02_row0_col7\" class=\"data row0 col7\" >Lead Day 8</td>\n",
       "      <td id=\"T_d2f02_row0_col8\" class=\"data row0 col8\" >Lead Day 9</td>\n",
       "      <td id=\"T_d2f02_row0_col9\" class=\"data row0 col9\" >Lead Day 10</td>\n",
       "    </tr>\n",
       "    <tr>\n",
       "      <th id=\"T_d2f02_level0_row1\" class=\"row_heading level0 row1\" >Score</th>\n",
       "      <td id=\"T_d2f02_row1_col0\" class=\"data row1 col0\" >55.421624</td>\n",
       "      <td id=\"T_d2f02_row1_col1\" class=\"data row1 col1\" >52.515182</td>\n",
       "      <td id=\"T_d2f02_row1_col2\" class=\"data row1 col2\" >52.908078</td>\n",
       "      <td id=\"T_d2f02_row1_col3\" class=\"data row1 col3\" >55.316262</td>\n",
       "      <td id=\"T_d2f02_row1_col4\" class=\"data row1 col4\" >53.662025</td>\n",
       "      <td id=\"T_d2f02_row1_col5\" class=\"data row1 col5\" >55.157873</td>\n",
       "      <td id=\"T_d2f02_row1_col6\" class=\"data row1 col6\" >56.136312</td>\n",
       "      <td id=\"T_d2f02_row1_col7\" class=\"data row1 col7\" >57.554940</td>\n",
       "      <td id=\"T_d2f02_row1_col8\" class=\"data row1 col8\" >59.304360</td>\n",
       "      <td id=\"T_d2f02_row1_col9\" class=\"data row1 col9\" >53.601463</td>\n",
       "    </tr>\n",
       "  </tbody>\n",
       "</table>\n"
      ],
      "text/plain": [
       "<pandas.io.formats.style.Styler at 0x7fe33eed0750>"
      ]
     },
     "execution_count": 20,
     "metadata": {},
     "output_type": "execute_result"
    }
   ],
   "source": [
    "from IPython.display import display, HTML\n",
    "display(HTML('<h1 style=\"color:red; text-align:center;\"> MLD Score</h1>'))\n",
    "df = pd.DataFrame([[\"Lead Day \" + str(i+1) for i in range(10)], mld[0,:]])\n",
    "df.index = [\"\", \"Score\"]\n",
    "df.style.set_properties(**{\"border\": \"1px solid black\", \"text-align\": \"center\"})"
   ]
  },
  {
   "cell_type": "code",
   "execution_count": 21,
   "id": "a3172e76-a41f-4767-b648-02e12561b52b",
   "metadata": {},
   "outputs": [
    {
     "data": {
      "text/html": [
       "<h1 style=\"color:red; text-align:center;\"> u_geo Score</h1>"
      ],
      "text/plain": [
       "<IPython.core.display.HTML object>"
      ]
     },
     "metadata": {},
     "output_type": "display_data"
    },
    {
     "data": {
      "text/html": [
       "<style type=\"text/css\">\n",
       "#T_fa29f_row0_col0, #T_fa29f_row0_col1, #T_fa29f_row0_col2, #T_fa29f_row0_col3, #T_fa29f_row0_col4, #T_fa29f_row0_col5, #T_fa29f_row0_col6, #T_fa29f_row0_col7, #T_fa29f_row0_col8, #T_fa29f_row0_col9, #T_fa29f_row1_col0, #T_fa29f_row1_col1, #T_fa29f_row1_col2, #T_fa29f_row1_col3, #T_fa29f_row1_col4, #T_fa29f_row1_col5, #T_fa29f_row1_col6, #T_fa29f_row1_col7, #T_fa29f_row1_col8, #T_fa29f_row1_col9 {\n",
       "  border: 1px solid black;\n",
       "  text-align: center;\n",
       "}\n",
       "</style>\n",
       "<table id=\"T_fa29f\">\n",
       "  <thead>\n",
       "    <tr>\n",
       "      <th class=\"blank level0\" >&nbsp;</th>\n",
       "      <th id=\"T_fa29f_level0_col0\" class=\"col_heading level0 col0\" >0</th>\n",
       "      <th id=\"T_fa29f_level0_col1\" class=\"col_heading level0 col1\" >1</th>\n",
       "      <th id=\"T_fa29f_level0_col2\" class=\"col_heading level0 col2\" >2</th>\n",
       "      <th id=\"T_fa29f_level0_col3\" class=\"col_heading level0 col3\" >3</th>\n",
       "      <th id=\"T_fa29f_level0_col4\" class=\"col_heading level0 col4\" >4</th>\n",
       "      <th id=\"T_fa29f_level0_col5\" class=\"col_heading level0 col5\" >5</th>\n",
       "      <th id=\"T_fa29f_level0_col6\" class=\"col_heading level0 col6\" >6</th>\n",
       "      <th id=\"T_fa29f_level0_col7\" class=\"col_heading level0 col7\" >7</th>\n",
       "      <th id=\"T_fa29f_level0_col8\" class=\"col_heading level0 col8\" >8</th>\n",
       "      <th id=\"T_fa29f_level0_col9\" class=\"col_heading level0 col9\" >9</th>\n",
       "    </tr>\n",
       "  </thead>\n",
       "  <tbody>\n",
       "    <tr>\n",
       "      <th id=\"T_fa29f_level0_row0\" class=\"row_heading level0 row0\" ></th>\n",
       "      <td id=\"T_fa29f_row0_col0\" class=\"data row0 col0\" >Lead Day 1</td>\n",
       "      <td id=\"T_fa29f_row0_col1\" class=\"data row0 col1\" >Lead Day 2</td>\n",
       "      <td id=\"T_fa29f_row0_col2\" class=\"data row0 col2\" >Lead Day 3</td>\n",
       "      <td id=\"T_fa29f_row0_col3\" class=\"data row0 col3\" >Lead Day 4</td>\n",
       "      <td id=\"T_fa29f_row0_col4\" class=\"data row0 col4\" >Lead Day 5</td>\n",
       "      <td id=\"T_fa29f_row0_col5\" class=\"data row0 col5\" >Lead Day 6</td>\n",
       "      <td id=\"T_fa29f_row0_col6\" class=\"data row0 col6\" >Lead Day 7</td>\n",
       "      <td id=\"T_fa29f_row0_col7\" class=\"data row0 col7\" >Lead Day 8</td>\n",
       "      <td id=\"T_fa29f_row0_col8\" class=\"data row0 col8\" >Lead Day 9</td>\n",
       "      <td id=\"T_fa29f_row0_col9\" class=\"data row0 col9\" >Lead Day 10</td>\n",
       "    </tr>\n",
       "    <tr>\n",
       "      <th id=\"T_fa29f_level0_row1\" class=\"row_heading level0 row1\" >Score</th>\n",
       "      <td id=\"T_fa29f_row1_col0\" class=\"data row1 col0\" >0.622205</td>\n",
       "      <td id=\"T_fa29f_row1_col1\" class=\"data row1 col1\" >0.639501</td>\n",
       "      <td id=\"T_fa29f_row1_col2\" class=\"data row1 col2\" >0.621422</td>\n",
       "      <td id=\"T_fa29f_row1_col3\" class=\"data row1 col3\" >0.605789</td>\n",
       "      <td id=\"T_fa29f_row1_col4\" class=\"data row1 col4\" >0.605955</td>\n",
       "      <td id=\"T_fa29f_row1_col5\" class=\"data row1 col5\" >0.622894</td>\n",
       "      <td id=\"T_fa29f_row1_col6\" class=\"data row1 col6\" >0.545927</td>\n",
       "      <td id=\"T_fa29f_row1_col7\" class=\"data row1 col7\" >0.582386</td>\n",
       "      <td id=\"T_fa29f_row1_col8\" class=\"data row1 col8\" >0.601647</td>\n",
       "      <td id=\"T_fa29f_row1_col9\" class=\"data row1 col9\" >0.610311</td>\n",
       "    </tr>\n",
       "  </tbody>\n",
       "</table>\n"
      ],
      "text/plain": [
       "<pandas.io.formats.style.Styler at 0x7fe33ec30d90>"
      ]
     },
     "execution_count": 21,
     "metadata": {},
     "output_type": "execute_result"
    }
   ],
   "source": [
    "from IPython.display import display, HTML\n",
    "display(HTML('<h1 style=\"color:red; text-align:center;\"> u_geo Score</h1>'))\n",
    "df = pd.DataFrame([[\"Lead Day \" + str(i+1) for i in range(10)], u_geo[0,:]])\n",
    "df.index = [\"\", \"Score\"]\n",
    "df.style.set_properties(**{\"border\": \"1px solid black\", \"text-align\": \"center\"})"
   ]
  },
  {
   "cell_type": "code",
   "execution_count": 22,
   "id": "d7c743ba-1263-4a66-b370-9d0fa72e4865",
   "metadata": {},
   "outputs": [
    {
     "data": {
      "text/html": [
       "<h1 style=\"color:red; text-align:center;\"> v_geo Score</h1>"
      ],
      "text/plain": [
       "<IPython.core.display.HTML object>"
      ]
     },
     "metadata": {},
     "output_type": "display_data"
    },
    {
     "data": {
      "text/html": [
       "<style type=\"text/css\">\n",
       "#T_98ad4_row0_col0, #T_98ad4_row0_col1, #T_98ad4_row0_col2, #T_98ad4_row0_col3, #T_98ad4_row0_col4, #T_98ad4_row0_col5, #T_98ad4_row0_col6, #T_98ad4_row0_col7, #T_98ad4_row0_col8, #T_98ad4_row0_col9, #T_98ad4_row1_col0, #T_98ad4_row1_col1, #T_98ad4_row1_col2, #T_98ad4_row1_col3, #T_98ad4_row1_col4, #T_98ad4_row1_col5, #T_98ad4_row1_col6, #T_98ad4_row1_col7, #T_98ad4_row1_col8, #T_98ad4_row1_col9 {\n",
       "  border: 1px solid black;\n",
       "  text-align: center;\n",
       "}\n",
       "</style>\n",
       "<table id=\"T_98ad4\">\n",
       "  <thead>\n",
       "    <tr>\n",
       "      <th class=\"blank level0\" >&nbsp;</th>\n",
       "      <th id=\"T_98ad4_level0_col0\" class=\"col_heading level0 col0\" >0</th>\n",
       "      <th id=\"T_98ad4_level0_col1\" class=\"col_heading level0 col1\" >1</th>\n",
       "      <th id=\"T_98ad4_level0_col2\" class=\"col_heading level0 col2\" >2</th>\n",
       "      <th id=\"T_98ad4_level0_col3\" class=\"col_heading level0 col3\" >3</th>\n",
       "      <th id=\"T_98ad4_level0_col4\" class=\"col_heading level0 col4\" >4</th>\n",
       "      <th id=\"T_98ad4_level0_col5\" class=\"col_heading level0 col5\" >5</th>\n",
       "      <th id=\"T_98ad4_level0_col6\" class=\"col_heading level0 col6\" >6</th>\n",
       "      <th id=\"T_98ad4_level0_col7\" class=\"col_heading level0 col7\" >7</th>\n",
       "      <th id=\"T_98ad4_level0_col8\" class=\"col_heading level0 col8\" >8</th>\n",
       "      <th id=\"T_98ad4_level0_col9\" class=\"col_heading level0 col9\" >9</th>\n",
       "    </tr>\n",
       "  </thead>\n",
       "  <tbody>\n",
       "    <tr>\n",
       "      <th id=\"T_98ad4_level0_row0\" class=\"row_heading level0 row0\" ></th>\n",
       "      <td id=\"T_98ad4_row0_col0\" class=\"data row0 col0\" >Lead Day 1</td>\n",
       "      <td id=\"T_98ad4_row0_col1\" class=\"data row0 col1\" >Lead Day 2</td>\n",
       "      <td id=\"T_98ad4_row0_col2\" class=\"data row0 col2\" >Lead Day 3</td>\n",
       "      <td id=\"T_98ad4_row0_col3\" class=\"data row0 col3\" >Lead Day 4</td>\n",
       "      <td id=\"T_98ad4_row0_col4\" class=\"data row0 col4\" >Lead Day 5</td>\n",
       "      <td id=\"T_98ad4_row0_col5\" class=\"data row0 col5\" >Lead Day 6</td>\n",
       "      <td id=\"T_98ad4_row0_col6\" class=\"data row0 col6\" >Lead Day 7</td>\n",
       "      <td id=\"T_98ad4_row0_col7\" class=\"data row0 col7\" >Lead Day 8</td>\n",
       "      <td id=\"T_98ad4_row0_col8\" class=\"data row0 col8\" >Lead Day 9</td>\n",
       "      <td id=\"T_98ad4_row0_col9\" class=\"data row0 col9\" >Lead Day 10</td>\n",
       "    </tr>\n",
       "    <tr>\n",
       "      <th id=\"T_98ad4_level0_row1\" class=\"row_heading level0 row1\" >Score</th>\n",
       "      <td id=\"T_98ad4_row1_col0\" class=\"data row1 col0\" >0.701412</td>\n",
       "      <td id=\"T_98ad4_row1_col1\" class=\"data row1 col1\" >0.699894</td>\n",
       "      <td id=\"T_98ad4_row1_col2\" class=\"data row1 col2\" >0.721076</td>\n",
       "      <td id=\"T_98ad4_row1_col3\" class=\"data row1 col3\" >0.802359</td>\n",
       "      <td id=\"T_98ad4_row1_col4\" class=\"data row1 col4\" >0.791146</td>\n",
       "      <td id=\"T_98ad4_row1_col5\" class=\"data row1 col5\" >0.955004</td>\n",
       "      <td id=\"T_98ad4_row1_col6\" class=\"data row1 col6\" >0.835658</td>\n",
       "      <td id=\"T_98ad4_row1_col7\" class=\"data row1 col7\" >0.807204</td>\n",
       "      <td id=\"T_98ad4_row1_col8\" class=\"data row1 col8\" >0.760776</td>\n",
       "      <td id=\"T_98ad4_row1_col9\" class=\"data row1 col9\" >0.807311</td>\n",
       "    </tr>\n",
       "  </tbody>\n",
       "</table>\n"
      ],
      "text/plain": [
       "<pandas.io.formats.style.Styler at 0x7fe33efcfe10>"
      ]
     },
     "execution_count": 22,
     "metadata": {},
     "output_type": "execute_result"
    }
   ],
   "source": [
    "from IPython.display import display, HTML\n",
    "display(HTML('<h1 style=\"color:red; text-align:center;\"> v_geo Score</h1>'))\n",
    "df = pd.DataFrame([[\"Lead Day \" + str(i+1) for i in range(10)], v_geo[0,:]])\n",
    "df.index = [\"\", \"Score\"]\n",
    "df.style.set_properties(**{\"border\": \"1px solid black\", \"text-align\": \"center\"})"
   ]
  },
  {
   "cell_type": "markdown",
   "id": "9f3eba05-fce1-48d6-b9eb-8d9786d43dee",
   "metadata": {},
   "source": [
    "### LAGRANGIAN TRAJ EVAL\n",
    "\n",
    "\n",
    "we stop at 9d not to have particle leaving domain"
   ]
  },
  {
   "cell_type": "code",
   "execution_count": 11,
   "id": "e0462ede-7e69-4f4b-bd58-f7e07a2aceef",
   "metadata": {
    "scrolled": true
   },
   "outputs": [
    {
     "name": "stdout",
     "output_type": "stream",
     "text": [
      "start\n",
      "INFO: Output files are stored in tst.zarr.\n",
      "100%|█████████████████████| 777600.0/777600.0 [00:30<00:00, 25908.43it/s]\n",
      "<class 'numpy.ndarray'>\n",
      "start\n",
      "INFO: Output files are stored in tst.zarr.\n",
      "100%|█████████████████████| 777600.0/777600.0 [00:19<00:00, 39402.99it/s]\n",
      "<class 'numpy.ndarray'>\n",
      "start\n",
      "INFO: Output files are stored in tst.zarr.\n",
      "100%|█████████████████████| 777600.0/777600.0 [00:19<00:00, 39780.75it/s]\n",
      "<class 'numpy.ndarray'>\n",
      "start\n",
      "INFO: Output files are stored in tst.zarr.\n",
      "100%|█████████████████████| 777600.0/777600.0 [00:19<00:00, 39861.69it/s]\n",
      "<class 'numpy.ndarray'>\n",
      "start\n",
      "INFO: Output files are stored in tst.zarr.\n",
      "100%|█████████████████████| 777600.0/777600.0 [00:19<00:00, 39818.78it/s]\n",
      "<class 'numpy.ndarray'>\n",
      "start\n",
      "INFO: Output files are stored in tst.zarr.\n",
      "100%|█████████████████████| 777600.0/777600.0 [00:19<00:00, 39999.70it/s]\n",
      "<class 'numpy.ndarray'>\n",
      "start\n",
      "INFO: Output files are stored in tst.zarr.\n",
      "100%|█████████████████████| 777600.0/777600.0 [00:19<00:00, 39658.16it/s]\n",
      "<class 'numpy.ndarray'>\n",
      "start\n",
      "INFO: Output files are stored in tst.zarr.\n",
      "100%|█████████████████████| 777600.0/777600.0 [00:19<00:00, 39623.58it/s]\n",
      "<class 'numpy.ndarray'>\n",
      "start\n",
      "INFO: Output files are stored in tst.zarr.\n",
      "100%|█████████████████████| 777600.0/777600.0 [00:19<00:00, 39714.55it/s]\n",
      "<class 'numpy.ndarray'>\n",
      "start\n",
      "INFO: Output files are stored in tst.zarr.\n",
      "100%|█████████████████████| 777600.0/777600.0 [00:19<00:00, 39874.39it/s]\n",
      "<class 'numpy.ndarray'>\n",
      "start\n",
      "INFO: Output files are stored in tst.zarr.\n",
      "100%|█████████████████████| 777600.0/777600.0 [00:19<00:00, 39804.44it/s]\n",
      "<class 'numpy.ndarray'>\n",
      "start\n",
      "INFO: Output files are stored in tst.zarr.\n",
      "100%|█████████████████████| 777600.0/777600.0 [00:19<00:00, 40034.07it/s]\n",
      "<class 'numpy.ndarray'>\n",
      "start\n",
      "INFO: Output files are stored in tst.zarr.\n",
      "100%|█████████████████████| 777600.0/777600.0 [00:19<00:00, 39767.63it/s]\n",
      "<class 'numpy.ndarray'>\n",
      "start\n",
      "INFO: Output files are stored in tst.zarr.\n",
      "100%|█████████████████████| 777600.0/777600.0 [00:19<00:00, 39469.48it/s]\n",
      "<class 'numpy.ndarray'>\n",
      "start\n",
      "INFO: Output files are stored in tst.zarr.\n",
      "100%|█████████████████████| 777600.0/777600.0 [00:19<00:00, 39763.09it/s]\n",
      "<class 'numpy.ndarray'>\n",
      "start\n",
      "INFO: Output files are stored in tst.zarr.\n",
      "100%|█████████████████████| 777600.0/777600.0 [00:19<00:00, 39283.54it/s]\n",
      "<class 'numpy.ndarray'>\n",
      "start\n",
      "INFO: Output files are stored in tst.zarr.\n",
      "100%|█████████████████████| 777600.0/777600.0 [00:19<00:00, 39577.05it/s]\n",
      "<class 'numpy.ndarray'>\n",
      "start\n",
      "INFO: Output files are stored in tst.zarr.\n",
      "100%|█████████████████████| 777600.0/777600.0 [00:32<00:00, 24030.21it/s]\n",
      "<class 'numpy.ndarray'>\n",
      "start\n",
      "INFO: Output files are stored in tst.zarr.\n",
      "100%|█████████████████████| 777600.0/777600.0 [00:30<00:00, 25641.96it/s]\n",
      "<class 'numpy.ndarray'>\n",
      "start\n",
      "INFO: Output files are stored in tst.zarr.\n",
      "100%|█████████████████████| 777600.0/777600.0 [00:55<00:00, 13971.23it/s]\n",
      "<class 'numpy.ndarray'>\n",
      "start\n",
      "INFO: Output files are stored in tst.zarr.\n",
      "100%|█████████████████████| 777600.0/777600.0 [01:14<00:00, 10454.26it/s]\n",
      "<class 'numpy.ndarray'>\n",
      "start\n",
      "INFO: Output files are stored in tst.zarr.\n",
      "100%|█████████████████████| 777600.0/777600.0 [00:36<00:00, 21169.48it/s]\n",
      "<class 'numpy.ndarray'>\n",
      "start\n",
      "INFO: Output files are stored in tst.zarr.\n",
      "100%|█████████████████████| 777600.0/777600.0 [00:19<00:00, 39168.17it/s]\n",
      "<class 'numpy.ndarray'>\n",
      "start\n",
      "INFO: Output files are stored in tst.zarr.\n",
      "100%|█████████████████████| 777600.0/777600.0 [00:19<00:00, 39822.17it/s]\n",
      "<class 'numpy.ndarray'>\n",
      "start\n",
      "INFO: Output files are stored in tst.zarr.\n",
      "100%|█████████████████████| 777600.0/777600.0 [00:19<00:00, 39214.28it/s]\n",
      "<class 'numpy.ndarray'>\n",
      "start\n",
      "INFO: Output files are stored in tst.zarr.\n",
      "100%|█████████████████████| 777600.0/777600.0 [00:19<00:00, 39886.56it/s]\n",
      "<class 'numpy.ndarray'>\n",
      "start\n",
      "INFO: Output files are stored in tst.zarr.\n",
      "100%|█████████████████████| 777600.0/777600.0 [00:19<00:00, 39785.79it/s]\n",
      "<class 'numpy.ndarray'>\n",
      "start\n",
      "INFO: Output files are stored in tst.zarr.\n",
      "100%|█████████████████████| 777600.0/777600.0 [00:19<00:00, 39580.99it/s]\n",
      "<class 'numpy.ndarray'>\n",
      "start\n",
      "INFO: Output files are stored in tst.zarr.\n",
      "100%|█████████████████████| 777600.0/777600.0 [00:19<00:00, 39674.47it/s]\n",
      "<class 'numpy.ndarray'>\n",
      "start\n",
      "INFO: Output files are stored in tst.zarr.\n",
      "100%|█████████████████████| 777600.0/777600.0 [00:19<00:00, 39809.18it/s]\n",
      "<class 'numpy.ndarray'>\n",
      "start\n",
      "INFO: Output files are stored in tst.zarr.\n",
      "100%|█████████████████████| 777600.0/777600.0 [00:19<00:00, 39589.44it/s]\n",
      "<class 'numpy.ndarray'>\n",
      "start\n",
      "INFO: Output files are stored in tst.zarr.\n",
      "100%|█████████████████████| 777600.0/777600.0 [00:19<00:00, 39496.81it/s]\n",
      "<class 'numpy.ndarray'>\n",
      "start\n",
      "INFO: Output files are stored in tst.zarr.\n",
      "100%|█████████████████████| 777600.0/777600.0 [00:19<00:00, 39780.39it/s]\n",
      "<class 'numpy.ndarray'>\n",
      "start\n",
      "INFO: Output files are stored in tst.zarr.\n",
      "100%|█████████████████████| 777600.0/777600.0 [00:19<00:00, 39293.88it/s]\n",
      "<class 'numpy.ndarray'>\n",
      "start\n",
      "INFO: Output files are stored in tst.zarr.\n",
      "100%|█████████████████████| 777600.0/777600.0 [00:19<00:00, 39584.32it/s]\n",
      "<class 'numpy.ndarray'>\n",
      "start\n",
      "INFO: Output files are stored in tst.zarr.\n",
      "100%|█████████████████████| 777600.0/777600.0 [00:19<00:00, 39755.06it/s]\n",
      "<class 'numpy.ndarray'>\n",
      "start\n",
      "INFO: Output files are stored in tst.zarr.\n",
      "100%|█████████████████████| 777600.0/777600.0 [00:19<00:00, 39406.85it/s]\n",
      "<class 'numpy.ndarray'>\n",
      "start\n",
      "INFO: Output files are stored in tst.zarr.\n",
      "100%|█████████████████████| 777600.0/777600.0 [00:19<00:00, 39701.16it/s]\n",
      "<class 'numpy.ndarray'>\n",
      "start\n",
      "INFO: Output files are stored in tst.zarr.\n",
      "100%|█████████████████████| 777600.0/777600.0 [00:22<00:00, 34624.05it/s]\n",
      "<class 'numpy.ndarray'>\n",
      "start\n",
      "INFO: Output files are stored in tst.zarr.\n",
      "100%|█████████████████████| 777600.0/777600.0 [00:31<00:00, 24776.08it/s]\n",
      "<class 'numpy.ndarray'>\n",
      "start\n",
      "INFO: Output files are stored in tst.zarr.\n",
      "100%|█████████████████████| 777600.0/777600.0 [00:42<00:00, 18342.07it/s]\n",
      "<class 'numpy.ndarray'>\n",
      "start\n",
      "INFO: Output files are stored in tst.zarr.\n",
      "100%|█████████████████████| 777600.0/777600.0 [01:10<00:00, 11021.30it/s]\n",
      "<class 'numpy.ndarray'>\n",
      "start\n",
      "INFO: Output files are stored in tst.zarr.\n",
      "100%|█████████████████████| 777600.0/777600.0 [00:19<00:00, 39101.06it/s]\n",
      "<class 'numpy.ndarray'>\n",
      "start\n",
      "INFO: Output files are stored in tst.zarr.\n",
      "100%|█████████████████████| 777600.0/777600.0 [00:19<00:00, 39479.35it/s]\n",
      "<class 'numpy.ndarray'>\n",
      "start\n",
      "INFO: Output files are stored in tst.zarr.\n",
      "100%|█████████████████████| 777600.0/777600.0 [00:19<00:00, 39577.13it/s]\n",
      "<class 'numpy.ndarray'>\n",
      "start\n",
      "INFO: Output files are stored in tst.zarr.\n",
      "100%|█████████████████████| 777600.0/777600.0 [00:19<00:00, 39231.28it/s]\n",
      "<class 'numpy.ndarray'>\n",
      "start\n",
      "INFO: Output files are stored in tst.zarr.\n",
      "100%|█████████████████████| 777600.0/777600.0 [00:19<00:00, 39531.15it/s]\n",
      "<class 'numpy.ndarray'>\n",
      "start\n",
      "INFO: Output files are stored in tst.zarr.\n",
      "100%|█████████████████████| 777600.0/777600.0 [00:19<00:00, 39919.33it/s]\n",
      "<class 'numpy.ndarray'>\n",
      "start\n",
      "INFO: Output files are stored in tst.zarr.\n",
      "100%|█████████████████████| 777600.0/777600.0 [00:19<00:00, 39609.20it/s]\n",
      "<class 'numpy.ndarray'>\n",
      "start\n",
      "INFO: Output files are stored in tst.zarr.\n",
      "100%|█████████████████████| 777600.0/777600.0 [00:19<00:00, 39881.40it/s]\n",
      "<class 'numpy.ndarray'>\n",
      "start\n",
      "INFO: Output files are stored in tst.zarr.\n",
      "100%|█████████████████████| 777600.0/777600.0 [00:19<00:00, 39753.73it/s]\n",
      "<class 'numpy.ndarray'>\n",
      "start\n",
      "INFO: Output files are stored in tst.zarr.\n",
      "100%|█████████████████████| 777600.0/777600.0 [00:19<00:00, 39194.73it/s]\n",
      "<class 'numpy.ndarray'>\n",
      "start\n",
      "INFO: Output files are stored in tst.zarr.\n",
      "100%|█████████████████████| 777600.0/777600.0 [00:19<00:00, 39610.00it/s]\n",
      "<class 'numpy.ndarray'>\n",
      "start\n",
      "INFO: Output files are stored in tst.zarr.\n",
      "100%|█████████████████████| 777600.0/777600.0 [00:19<00:00, 39840.31it/s]\n",
      "<class 'numpy.ndarray'>\n"
     ]
    }
   ],
   "source": [
    "euclidean_distance=[]\n",
    "for i in range(len(gnetset)):\n",
    "    euclidean_distance.append (oceanbench.metrics.euclidean_distance(\n",
    "    first_dataset=gnetset[i],\n",
    "    second_dataset=grysset[i],\n",
    "    minimum_latitude=10,\n",
    "    maximum_latitude=40,\n",
    "    minimum_longitude=-40,\n",
    "    maximum_longitude=0,))\n"
   ]
  },
  {
   "cell_type": "code",
   "execution_count": 12,
   "id": "f4f16a01-a80a-4a44-95ae-c601de884d1d",
   "metadata": {},
   "outputs": [
    {
     "data": {
      "text/html": [
       "<h1 style=\"color:red; text-align:center;\"> Lag-traj div [km ]</h1>"
      ],
      "text/plain": [
       "<IPython.core.display.HTML object>"
      ]
     },
     "metadata": {},
     "output_type": "display_data"
    },
    {
     "data": {
      "text/html": [
       "<style type=\"text/css\">\n",
       "#T_b3328_row0_col0, #T_b3328_row0_col1, #T_b3328_row0_col2, #T_b3328_row0_col3, #T_b3328_row0_col4, #T_b3328_row0_col5, #T_b3328_row0_col6, #T_b3328_row0_col7, #T_b3328_row1_col0, #T_b3328_row1_col1, #T_b3328_row1_col2, #T_b3328_row1_col3, #T_b3328_row1_col4, #T_b3328_row1_col5, #T_b3328_row1_col6, #T_b3328_row1_col7 {\n",
       "  border: 1px solid black;\n",
       "  text-align: center;\n",
       "}\n",
       "</style>\n",
       "<table id=\"T_b3328\">\n",
       "  <thead>\n",
       "    <tr>\n",
       "      <th class=\"blank level0\" >&nbsp;</th>\n",
       "      <th id=\"T_b3328_level0_col0\" class=\"col_heading level0 col0\" >0</th>\n",
       "      <th id=\"T_b3328_level0_col1\" class=\"col_heading level0 col1\" >1</th>\n",
       "      <th id=\"T_b3328_level0_col2\" class=\"col_heading level0 col2\" >2</th>\n",
       "      <th id=\"T_b3328_level0_col3\" class=\"col_heading level0 col3\" >3</th>\n",
       "      <th id=\"T_b3328_level0_col4\" class=\"col_heading level0 col4\" >4</th>\n",
       "      <th id=\"T_b3328_level0_col5\" class=\"col_heading level0 col5\" >5</th>\n",
       "      <th id=\"T_b3328_level0_col6\" class=\"col_heading level0 col6\" >6</th>\n",
       "      <th id=\"T_b3328_level0_col7\" class=\"col_heading level0 col7\" >7</th>\n",
       "    </tr>\n",
       "  </thead>\n",
       "  <tbody>\n",
       "    <tr>\n",
       "      <th id=\"T_b3328_level0_row0\" class=\"row_heading level0 row0\" ></th>\n",
       "      <td id=\"T_b3328_row0_col0\" class=\"data row0 col0\" >Lead Day 2</td>\n",
       "      <td id=\"T_b3328_row0_col1\" class=\"data row0 col1\" >Lead Day 3</td>\n",
       "      <td id=\"T_b3328_row0_col2\" class=\"data row0 col2\" >Lead Day 4</td>\n",
       "      <td id=\"T_b3328_row0_col3\" class=\"data row0 col3\" >Lead Day 5</td>\n",
       "      <td id=\"T_b3328_row0_col4\" class=\"data row0 col4\" >Lead Day 6</td>\n",
       "      <td id=\"T_b3328_row0_col5\" class=\"data row0 col5\" >Lead Day 7</td>\n",
       "      <td id=\"T_b3328_row0_col6\" class=\"data row0 col6\" >Lead Day 8</td>\n",
       "      <td id=\"T_b3328_row0_col7\" class=\"data row0 col7\" >Lead Day 9</td>\n",
       "    </tr>\n",
       "    <tr>\n",
       "      <th id=\"T_b3328_level0_row1\" class=\"row_heading level0 row1\" >Score</th>\n",
       "      <td id=\"T_b3328_row1_col0\" class=\"data row1 col0\" >7.521666</td>\n",
       "      <td id=\"T_b3328_row1_col1\" class=\"data row1 col1\" >14.546629</td>\n",
       "      <td id=\"T_b3328_row1_col2\" class=\"data row1 col2\" >21.051516</td>\n",
       "      <td id=\"T_b3328_row1_col3\" class=\"data row1 col3\" >27.059744</td>\n",
       "      <td id=\"T_b3328_row1_col4\" class=\"data row1 col4\" >32.737648</td>\n",
       "      <td id=\"T_b3328_row1_col5\" class=\"data row1 col5\" >38.063061</td>\n",
       "      <td id=\"T_b3328_row1_col6\" class=\"data row1 col6\" >43.047558</td>\n",
       "      <td id=\"T_b3328_row1_col7\" class=\"data row1 col7\" >47.775536</td>\n",
       "    </tr>\n",
       "  </tbody>\n",
       "</table>\n"
      ],
      "text/plain": [
       "<pandas.io.formats.style.Styler at 0x7f23bc3b4e50>"
      ]
     },
     "execution_count": 12,
     "metadata": {},
     "output_type": "execute_result"
    }
   ],
   "source": [
    "from IPython.display import display, HTML\n",
    "lag_traj = np.mean(euclidean_distance, axis=0)\n",
    "display(HTML('<h1 style=\"color:red; text-align:center;\"> Lag-traj div [km ]</h1>'))\n",
    "df = pd.DataFrame([[\"Lead Day \" + str(i+1) for i in range(1, 9)], lag_traj[1:9]])\n",
    "df.index = [\"\", \"Score\"]\n",
    "df.style.set_properties(**{\"border\": \"1px solid black\", \"text-align\": \"center\"})"
   ]
  },
  {
   "cell_type": "code",
   "execution_count": null,
   "id": "2156c374-864b-4522-81ce-6b8896a8afd4",
   "metadata": {},
   "outputs": [],
   "source": []
  }
 ],
 "metadata": {
  "kernelspec": {
   "display_name": "Python 3 (ipykernel)",
   "language": "python",
   "name": "python3"
  },
  "language_info": {
   "codemirror_mode": {
    "name": "ipython",
    "version": 3
   },
   "file_extension": ".py",
   "mimetype": "text/x-python",
   "name": "python",
   "nbconvert_exporter": "python",
   "pygments_lexer": "ipython3",
   "version": "3.11.9"
  }
 },
 "nbformat": 4,
 "nbformat_minor": 5
}
